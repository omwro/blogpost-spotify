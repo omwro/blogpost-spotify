{
 "cells": [
  {
   "cell_type": "code",
   "execution_count": 1,
   "id": "225987b6",
   "metadata": {},
   "outputs": [],
   "source": [
    "#all imports\n",
    "import spotipy\n",
    "from spotipy.oauth2 import SpotifyClientCredentials\n",
    "import pandas as pd\n",
    "import numpy as np\n",
    "import plotly.express as px\n",
    "import matplotlib.pyplot as plt\n",
    "import json\n",
    "import plotly.graph_objects as go\n",
    "\n",
    "#SPOTIPY_CLIENT_ID = \"5f222d8ae8c744f6815d314bba7709ab\"\n",
    "#SPOTIPY_CLIENT_SECRET = \"2e90b0c27de84414ac5a7847d8bc73c9\""
   ]
  },
  {
   "cell_type": "code",
   "execution_count": 2,
   "id": "ada5a81b",
   "metadata": {
    "scrolled": false
   },
   "outputs": [],
   "source": [
    "#set playlist + spotify authentication\n",
    "playlistURL = 'https://open.spotify.com/playlist/596TVWnQdvHEeYyKUXkpDL?si=d36cdf733a8945c5'\n",
    "spotify = spotipy.Spotify(client_credentials_manager=SpotifyClientCredentials())\n",
    "\n",
    "#get playlist items\n",
    "playlist = spotify.playlist_items(playlistURL)"
   ]
  },
  {
   "cell_type": "code",
   "execution_count": 3,
   "id": "b8d5a7fa",
   "metadata": {},
   "outputs": [
    {
     "data": {
      "text/html": [
       "<div>\n",
       "<style scoped>\n",
       "    .dataframe tbody tr th:only-of-type {\n",
       "        vertical-align: middle;\n",
       "    }\n",
       "\n",
       "    .dataframe tbody tr th {\n",
       "        vertical-align: top;\n",
       "    }\n",
       "\n",
       "    .dataframe thead th {\n",
       "        text-align: right;\n",
       "    }\n",
       "</style>\n",
       "<table border=\"1\" class=\"dataframe\">\n",
       "  <thead>\n",
       "    <tr style=\"text-align: right;\">\n",
       "      <th></th>\n",
       "      <th>href</th>\n",
       "      <th>items</th>\n",
       "      <th>limit</th>\n",
       "      <th>next</th>\n",
       "      <th>offset</th>\n",
       "      <th>previous</th>\n",
       "      <th>total</th>\n",
       "    </tr>\n",
       "  </thead>\n",
       "  <tbody>\n",
       "    <tr>\n",
       "      <th>0</th>\n",
       "      <td>https://api.spotify.com/v1/playlists/596TVWnQd...</td>\n",
       "      <td>{'added_at': '2019-05-14T05:14:13Z', 'added_by...</td>\n",
       "      <td>100</td>\n",
       "      <td>None</td>\n",
       "      <td>0</td>\n",
       "      <td>None</td>\n",
       "      <td>76</td>\n",
       "    </tr>\n",
       "    <tr>\n",
       "      <th>1</th>\n",
       "      <td>https://api.spotify.com/v1/playlists/596TVWnQd...</td>\n",
       "      <td>{'added_at': '2019-05-14T05:13:56Z', 'added_by...</td>\n",
       "      <td>100</td>\n",
       "      <td>None</td>\n",
       "      <td>0</td>\n",
       "      <td>None</td>\n",
       "      <td>76</td>\n",
       "    </tr>\n",
       "    <tr>\n",
       "      <th>2</th>\n",
       "      <td>https://api.spotify.com/v1/playlists/596TVWnQd...</td>\n",
       "      <td>{'added_at': '2019-05-14T05:13:12Z', 'added_by...</td>\n",
       "      <td>100</td>\n",
       "      <td>None</td>\n",
       "      <td>0</td>\n",
       "      <td>None</td>\n",
       "      <td>76</td>\n",
       "    </tr>\n",
       "    <tr>\n",
       "      <th>3</th>\n",
       "      <td>https://api.spotify.com/v1/playlists/596TVWnQd...</td>\n",
       "      <td>{'added_at': '2019-05-14T05:12:48Z', 'added_by...</td>\n",
       "      <td>100</td>\n",
       "      <td>None</td>\n",
       "      <td>0</td>\n",
       "      <td>None</td>\n",
       "      <td>76</td>\n",
       "    </tr>\n",
       "    <tr>\n",
       "      <th>4</th>\n",
       "      <td>https://api.spotify.com/v1/playlists/596TVWnQd...</td>\n",
       "      <td>{'added_at': '2019-05-14T05:12:12Z', 'added_by...</td>\n",
       "      <td>100</td>\n",
       "      <td>None</td>\n",
       "      <td>0</td>\n",
       "      <td>None</td>\n",
       "      <td>76</td>\n",
       "    </tr>\n",
       "  </tbody>\n",
       "</table>\n",
       "</div>"
      ],
      "text/plain": [
       "                                                href  \\\n",
       "0  https://api.spotify.com/v1/playlists/596TVWnQd...   \n",
       "1  https://api.spotify.com/v1/playlists/596TVWnQd...   \n",
       "2  https://api.spotify.com/v1/playlists/596TVWnQd...   \n",
       "3  https://api.spotify.com/v1/playlists/596TVWnQd...   \n",
       "4  https://api.spotify.com/v1/playlists/596TVWnQd...   \n",
       "\n",
       "                                               items  limit  next  offset  \\\n",
       "0  {'added_at': '2019-05-14T05:14:13Z', 'added_by...    100  None       0   \n",
       "1  {'added_at': '2019-05-14T05:13:56Z', 'added_by...    100  None       0   \n",
       "2  {'added_at': '2019-05-14T05:13:12Z', 'added_by...    100  None       0   \n",
       "3  {'added_at': '2019-05-14T05:12:48Z', 'added_by...    100  None       0   \n",
       "4  {'added_at': '2019-05-14T05:12:12Z', 'added_by...    100  None       0   \n",
       "\n",
       "  previous  total  \n",
       "0     None     76  \n",
       "1     None     76  \n",
       "2     None     76  \n",
       "3     None     76  \n",
       "4     None     76  "
      ]
     },
     "execution_count": 3,
     "metadata": {},
     "output_type": "execute_result"
    }
   ],
   "source": [
    "#write playlist data to JSON file\n",
    "with open('data.json', 'w') as f:\n",
    "    json.dump(playlist, f)\n",
    "    \n",
    "#read the JSON file using pandas to convert to DataFrame\n",
    "data = json.load(open('data.json'))\n",
    "\n",
    "df = pd.DataFrame(data)\n",
    "df.head()\n"
   ]
  },
  {
   "cell_type": "code",
   "execution_count": 4,
   "id": "07560a0c",
   "metadata": {},
   "outputs": [],
   "source": [
    "#initialise item ID list\n",
    "IDlist = []"
   ]
  },
  {
   "cell_type": "code",
   "execution_count": 5,
   "id": "7a0e38b8",
   "metadata": {},
   "outputs": [],
   "source": [
    "#get total songs in playlist\n",
    "totalSongs = df.iloc[0]['total']\n",
    "\n",
    "#for loop to retreive all song IDs from the playlist\n",
    "for x in range(0, totalSongs): \n",
    "    pl_item = df.iloc[x]['items']\n",
    "    \n",
    "    #write playlist data to JSON file\n",
    "    with open('data.json', 'w') as f:\n",
    "        json.dump(pl_item, f)\n",
    "    \n",
    "    #read the JSON file using pandas to convert to DataFrame\n",
    "    data3 = json.load(open('data.json'))\n",
    "    #find track ID\n",
    "    itemDF = pd.DataFrame(data3)\n",
    "    trackID = itemDF['track'].loc['uri']\n",
    "    IDlist.append(trackID)\n",
    "\n"
   ]
  },
  {
   "cell_type": "code",
   "execution_count": 6,
   "id": "3549ac66",
   "metadata": {},
   "outputs": [
    {
     "name": "stdout",
     "output_type": "stream",
     "text": [
      "76\n"
     ]
    }
   ],
   "source": [
    "#get number of IDs in IDlist\n",
    "print(len(IDlist))"
   ]
  },
  {
   "cell_type": "code",
   "execution_count": 7,
   "id": "a05be426",
   "metadata": {
    "scrolled": true
   },
   "outputs": [
    {
     "name": "stdout",
     "output_type": "stream",
     "text": [
      "[{'danceability': 0.342, 'energy': 0.236, 'key': 2, 'loudness': -8.276, 'mode': 1, 'speechiness': 0.0321, 'acousticness': 0.762, 'instrumentalness': 0.00374, 'liveness': 0.385, 'valence': 0.185, 'tempo': 76.747, 'type': 'audio_features', 'id': '4caBvUyMq6C2ZtN9T0ROjT', 'uri': 'spotify:track:4caBvUyMq6C2ZtN9T0ROjT', 'track_href': 'https://api.spotify.com/v1/tracks/4caBvUyMq6C2ZtN9T0ROjT', 'analysis_url': 'https://api.spotify.com/v1/audio-analysis/4caBvUyMq6C2ZtN9T0ROjT', 'duration_ms': 210733, 'time_signature': 1}, {'danceability': 0.748, 'energy': 0.166, 'key': 7, 'loudness': -14.963, 'mode': 1, 'speechiness': 0.0343, 'acousticness': 0.681, 'instrumentalness': 0.482, 'liveness': 0.0813, 'valence': 0.5, 'tempo': 122.25, 'type': 'audio_features', 'id': '3Ud0Z2i2ilRkREJZkeNsye', 'uri': 'spotify:track:3Ud0Z2i2ilRkREJZkeNsye', 'track_href': 'https://api.spotify.com/v1/tracks/3Ud0Z2i2ilRkREJZkeNsye', 'analysis_url': 'https://api.spotify.com/v1/audio-analysis/3Ud0Z2i2ilRkREJZkeNsye', 'duration_ms': 169253, 'time_signature': 4}, {'danceability': 0.53, 'energy': 0.57, 'key': 10, 'loudness': -7.942, 'mode': 1, 'speechiness': 0.0559, 'acousticness': 0.551, 'instrumentalness': 0.911, 'liveness': 0.102, 'valence': 0.943, 'tempo': 105.621, 'type': 'audio_features', 'id': '0Ec85AbUzt5SRDnsiBodml', 'uri': 'spotify:track:0Ec85AbUzt5SRDnsiBodml', 'track_href': 'https://api.spotify.com/v1/tracks/0Ec85AbUzt5SRDnsiBodml', 'analysis_url': 'https://api.spotify.com/v1/audio-analysis/0Ec85AbUzt5SRDnsiBodml', 'duration_ms': 174027, 'time_signature': 4}, {'danceability': 0.428, 'energy': 0.587, 'key': 9, 'loudness': -5.039, 'mode': 1, 'speechiness': 0.0327, 'acousticness': 0.957, 'instrumentalness': 2.09e-05, 'liveness': 0.19, 'valence': 0.336, 'tempo': 126.574, 'type': 'audio_features', 'id': '6llTPEB5phgi7Pf1yx3fzJ', 'uri': 'spotify:track:6llTPEB5phgi7Pf1yx3fzJ', 'track_href': 'https://api.spotify.com/v1/tracks/6llTPEB5phgi7Pf1yx3fzJ', 'analysis_url': 'https://api.spotify.com/v1/audio-analysis/6llTPEB5phgi7Pf1yx3fzJ', 'duration_ms': 176707, 'time_signature': 3}, {'danceability': 0.335, 'energy': 0.255, 'key': 5, 'loudness': -10.561, 'mode': 1, 'speechiness': 0.0277, 'acousticness': 0.843, 'instrumentalness': 0, 'liveness': 0.26, 'valence': 0.556, 'tempo': 141.158, 'type': 'audio_features', 'id': '1fhLgOJgIIZEsWWffk8ljs', 'uri': 'spotify:track:1fhLgOJgIIZEsWWffk8ljs', 'track_href': 'https://api.spotify.com/v1/tracks/1fhLgOJgIIZEsWWffk8ljs', 'analysis_url': 'https://api.spotify.com/v1/audio-analysis/1fhLgOJgIIZEsWWffk8ljs', 'duration_ms': 202240, 'time_signature': 3}, {'danceability': 0.201, 'energy': 0.213, 'key': 8, 'loudness': -14.531, 'mode': 1, 'speechiness': 0.0298, 'acousticness': 0.805, 'instrumentalness': 8.22e-05, 'liveness': 0.126, 'valence': 0.203, 'tempo': 96.324, 'type': 'audio_features', 'id': '0zII0Soax7wbm3Avw7iVAd', 'uri': 'spotify:track:0zII0Soax7wbm3Avw7iVAd', 'track_href': 'https://api.spotify.com/v1/tracks/0zII0Soax7wbm3Avw7iVAd', 'analysis_url': 'https://api.spotify.com/v1/audio-analysis/0zII0Soax7wbm3Avw7iVAd', 'duration_ms': 204627, 'time_signature': 4}, {'danceability': 0.328, 'energy': 0.144, 'key': 2, 'loudness': -21.882, 'mode': 1, 'speechiness': 0.0331, 'acousticness': 0.739, 'instrumentalness': 0.919, 'liveness': 0.129, 'valence': 0.649, 'tempo': 124.489, 'type': 'audio_features', 'id': '6ecG5Am0TRxn0uwZBQHA3L', 'uri': 'spotify:track:6ecG5Am0TRxn0uwZBQHA3L', 'track_href': 'https://api.spotify.com/v1/tracks/6ecG5Am0TRxn0uwZBQHA3L', 'analysis_url': 'https://api.spotify.com/v1/audio-analysis/6ecG5Am0TRxn0uwZBQHA3L', 'duration_ms': 169427, 'time_signature': 4}, {'danceability': 0.205, 'energy': 0.355, 'key': 7, 'loudness': -9.078, 'mode': 1, 'speechiness': 0.0319, 'acousticness': 0.927, 'instrumentalness': 0.133, 'liveness': 0.199, 'valence': 0.164, 'tempo': 82.729, 'type': 'audio_features', 'id': '5fcIZbzFP3lECBqvu9VLcu', 'uri': 'spotify:track:5fcIZbzFP3lECBqvu9VLcu', 'track_href': 'https://api.spotify.com/v1/tracks/5fcIZbzFP3lECBqvu9VLcu', 'analysis_url': 'https://api.spotify.com/v1/audio-analysis/5fcIZbzFP3lECBqvu9VLcu', 'duration_ms': 195027, 'time_signature': 3}, {'danceability': 0.403, 'energy': 0.0938, 'key': 8, 'loudness': -18.535, 'mode': 1, 'speechiness': 0.0475, 'acousticness': 0.866, 'instrumentalness': 4.53e-06, 'liveness': 0.125, 'valence': 0.284, 'tempo': 84.0, 'type': 'audio_features', 'id': '6rJZdaRiIysWoWoNoxCjZo', 'uri': 'spotify:track:6rJZdaRiIysWoWoNoxCjZo', 'track_href': 'https://api.spotify.com/v1/tracks/6rJZdaRiIysWoWoNoxCjZo', 'analysis_url': 'https://api.spotify.com/v1/audio-analysis/6rJZdaRiIysWoWoNoxCjZo', 'duration_ms': 181507, 'time_signature': 4}, {'danceability': 0.51, 'energy': 0.344, 'key': 3, 'loudness': -13.14, 'mode': 1, 'speechiness': 0.0454, 'acousticness': 0.517, 'instrumentalness': 0.754, 'liveness': 0.107, 'valence': 0.707, 'tempo': 118.274, 'type': 'audio_features', 'id': '5HisVcYPaIB4uHdrnW6HCt', 'uri': 'spotify:track:5HisVcYPaIB4uHdrnW6HCt', 'track_href': 'https://api.spotify.com/v1/tracks/5HisVcYPaIB4uHdrnW6HCt', 'analysis_url': 'https://api.spotify.com/v1/audio-analysis/5HisVcYPaIB4uHdrnW6HCt', 'duration_ms': 189640, 'time_signature': 4}, {'danceability': 0.696, 'energy': 0.21, 'key': 4, 'loudness': -11.922, 'mode': 1, 'speechiness': 0.067, 'acousticness': 0.84, 'instrumentalness': 1.62e-06, 'liveness': 0.107, 'valence': 0.717, 'tempo': 93.543, 'type': 'audio_features', 'id': '6xNwKNYZcvgV3XTIwsgNio', 'uri': 'spotify:track:6xNwKNYZcvgV3XTIwsgNio', 'track_href': 'https://api.spotify.com/v1/tracks/6xNwKNYZcvgV3XTIwsgNio', 'analysis_url': 'https://api.spotify.com/v1/audio-analysis/6xNwKNYZcvgV3XTIwsgNio', 'duration_ms': 127560, 'time_signature': 4}, {'danceability': 0.624, 'energy': 0.468, 'key': 10, 'loudness': -12.162, 'mode': 1, 'speechiness': 0.132, 'acousticness': 0.881, 'instrumentalness': 6.35e-06, 'liveness': 0.144, 'valence': 0.952, 'tempo': 74.139, 'type': 'audio_features', 'id': '5ueyLj6e6oVaTY0KQ6yLaA', 'uri': 'spotify:track:5ueyLj6e6oVaTY0KQ6yLaA', 'track_href': 'https://api.spotify.com/v1/tracks/5ueyLj6e6oVaTY0KQ6yLaA', 'analysis_url': 'https://api.spotify.com/v1/audio-analysis/5ueyLj6e6oVaTY0KQ6yLaA', 'duration_ms': 117080, 'time_signature': 4}, {'danceability': 0.52, 'energy': 0.0721, 'key': 2, 'loudness': -14.38, 'mode': 1, 'speechiness': 0.0288, 'acousticness': 0.967, 'instrumentalness': 0.0132, 'liveness': 0.114, 'valence': 0.265, 'tempo': 67.369, 'type': 'audio_features', 'id': '4fgMsJGLDqy4HsJFRgaVNG', 'uri': 'spotify:track:4fgMsJGLDqy4HsJFRgaVNG', 'track_href': 'https://api.spotify.com/v1/tracks/4fgMsJGLDqy4HsJFRgaVNG', 'analysis_url': 'https://api.spotify.com/v1/audio-analysis/4fgMsJGLDqy4HsJFRgaVNG', 'duration_ms': 168787, 'time_signature': 4}, {'danceability': 0.703, 'energy': 0.753, 'key': 9, 'loudness': -11.783, 'mode': 1, 'speechiness': 0.135, 'acousticness': 0.803, 'instrumentalness': 0, 'liveness': 0.0997, 'valence': 0.921, 'tempo': 177.162, 'type': 'audio_features', 'id': '1XRA4Tjb2YrcQU5ThDllCw', 'uri': 'spotify:track:1XRA4Tjb2YrcQU5ThDllCw', 'track_href': 'https://api.spotify.com/v1/tracks/1XRA4Tjb2YrcQU5ThDllCw', 'analysis_url': 'https://api.spotify.com/v1/audio-analysis/1XRA4Tjb2YrcQU5ThDllCw', 'duration_ms': 152067, 'time_signature': 4}, {'danceability': 0.466, 'energy': 0.389, 'key': 5, 'loudness': -12.825, 'mode': 1, 'speechiness': 0.0253, 'acousticness': 0.631, 'instrumentalness': 0.843, 'liveness': 0.295, 'valence': 0.749, 'tempo': 92.631, 'type': 'audio_features', 'id': '2kKL5kk4On8YRSKWDgXWMX', 'uri': 'spotify:track:2kKL5kk4On8YRSKWDgXWMX', 'track_href': 'https://api.spotify.com/v1/tracks/2kKL5kk4On8YRSKWDgXWMX', 'analysis_url': 'https://api.spotify.com/v1/audio-analysis/2kKL5kk4On8YRSKWDgXWMX', 'duration_ms': 144893, 'time_signature': 4}, {'danceability': 0.569, 'energy': 0.722, 'key': 0, 'loudness': -8.914, 'mode': 1, 'speechiness': 0.0393, 'acousticness': 0.225, 'instrumentalness': 0, 'liveness': 0.108, 'valence': 0.965, 'tempo': 142.736, 'type': 'audio_features', 'id': '79s3pSe1u6ggQBEwVPm58Z', 'uri': 'spotify:track:79s3pSe1u6ggQBEwVPm58Z', 'track_href': 'https://api.spotify.com/v1/tracks/79s3pSe1u6ggQBEwVPm58Z', 'analysis_url': 'https://api.spotify.com/v1/audio-analysis/79s3pSe1u6ggQBEwVPm58Z', 'duration_ms': 159640, 'time_signature': 4}, {'danceability': 0.313, 'energy': 0.329, 'key': 3, 'loudness': -12.47, 'mode': 1, 'speechiness': 0.0334, 'acousticness': 0.825, 'instrumentalness': 0.888, 'liveness': 0.0803, 'valence': 0.227, 'tempo': 71.278, 'type': 'audio_features', 'id': '6EwVwaoy9j9mfKAvksVwC8', 'uri': 'spotify:track:6EwVwaoy9j9mfKAvksVwC8', 'track_href': 'https://api.spotify.com/v1/tracks/6EwVwaoy9j9mfKAvksVwC8', 'analysis_url': 'https://api.spotify.com/v1/audio-analysis/6EwVwaoy9j9mfKAvksVwC8', 'duration_ms': 201456, 'time_signature': 4}, {'danceability': 0.792, 'energy': 0.804, 'key': 7, 'loudness': -7.484, 'mode': 1, 'speechiness': 0.0659, 'acousticness': 0.225, 'instrumentalness': 5.01e-06, 'liveness': 0.065, 'valence': 0.879, 'tempo': 132.852, 'type': 'audio_features', 'id': '2nLLenueHlqs60IcDn9lan', 'uri': 'spotify:track:2nLLenueHlqs60IcDn9lan', 'track_href': 'https://api.spotify.com/v1/tracks/2nLLenueHlqs60IcDn9lan', 'analysis_url': 'https://api.spotify.com/v1/audio-analysis/2nLLenueHlqs60IcDn9lan', 'duration_ms': 123693, 'time_signature': 4}, {'danceability': 0.49, 'energy': 0.715, 'key': 7, 'loudness': -5.549, 'mode': 1, 'speechiness': 0.0476, 'acousticness': 0.386, 'instrumentalness': 0, 'liveness': 0.311, 'valence': 0.866, 'tempo': 130.726, 'type': 'audio_features', 'id': '4pbG9SUmWIvsROVLF0zF9s', 'uri': 'spotify:track:4pbG9SUmWIvsROVLF0zF9s', 'track_href': 'https://api.spotify.com/v1/tracks/4pbG9SUmWIvsROVLF0zF9s', 'analysis_url': 'https://api.spotify.com/v1/audio-analysis/4pbG9SUmWIvsROVLF0zF9s', 'duration_ms': 145747, 'time_signature': 4}, {'danceability': 0.696, 'energy': 0.692, 'key': 0, 'loudness': -9.586, 'mode': 1, 'speechiness': 0.0575, 'acousticness': 0.577, 'instrumentalness': 0.000688, 'liveness': 0.246, 'valence': 0.904, 'tempo': 140.978, 'type': 'audio_features', 'id': '0SRkuudTEWe2HOloI1Nssq', 'uri': 'spotify:track:0SRkuudTEWe2HOloI1Nssq', 'track_href': 'https://api.spotify.com/v1/tracks/0SRkuudTEWe2HOloI1Nssq', 'analysis_url': 'https://api.spotify.com/v1/audio-analysis/0SRkuudTEWe2HOloI1Nssq', 'duration_ms': 138867, 'time_signature': 4}, {'danceability': 0.715, 'energy': 0.327, 'key': 0, 'loudness': -11.814, 'mode': 1, 'speechiness': 0.033, 'acousticness': 0.782, 'instrumentalness': 0.000344, 'liveness': 0.625, 'valence': 0.713, 'tempo': 84.369, 'type': 'audio_features', 'id': '0yjNmllr3Ew6f97TqPuEqa', 'uri': 'spotify:track:0yjNmllr3Ew6f97TqPuEqa', 'track_href': 'https://api.spotify.com/v1/tracks/0yjNmllr3Ew6f97TqPuEqa', 'analysis_url': 'https://api.spotify.com/v1/audio-analysis/0yjNmllr3Ew6f97TqPuEqa', 'duration_ms': 146400, 'time_signature': 4}, {'danceability': 0.546, 'energy': 0.399, 'key': 4, 'loudness': -9.378, 'mode': 1, 'speechiness': 0.027, 'acousticness': 0.361, 'instrumentalness': 3.18e-06, 'liveness': 0.0995, 'valence': 0.301, 'tempo': 97.142, 'type': 'audio_features', 'id': '0gBFr7N2D1GfhkXIIepIGG', 'uri': 'spotify:track:0gBFr7N2D1GfhkXIIepIGG', 'track_href': 'https://api.spotify.com/v1/tracks/0gBFr7N2D1GfhkXIIepIGG', 'analysis_url': 'https://api.spotify.com/v1/audio-analysis/0gBFr7N2D1GfhkXIIepIGG', 'duration_ms': 166693, 'time_signature': 4}, {'danceability': 0.386, 'energy': 0.607, 'key': 10, 'loudness': -7.7, 'mode': 1, 'speechiness': 0.0261, 'acousticness': 0.0112, 'instrumentalness': 1.38e-05, 'liveness': 0.088, 'valence': 0.532, 'tempo': 147.207, 'type': 'audio_features', 'id': '0aym2LBJBk9DAYuHHutrIl', 'uri': 'spotify:track:0aym2LBJBk9DAYuHHutrIl', 'track_href': 'https://api.spotify.com/v1/tracks/0aym2LBJBk9DAYuHHutrIl', 'analysis_url': 'https://api.spotify.com/v1/audio-analysis/0aym2LBJBk9DAYuHHutrIl', 'duration_ms': 425653, 'time_signature': 4}, {'danceability': 0.736, 'energy': 0.871, 'key': 2, 'loudness': -2.786, 'mode': 1, 'speechiness': 0.0278, 'acousticness': 0.466, 'instrumentalness': 0, 'liveness': 0.108, 'valence': 0.967, 'tempo': 122.395, 'type': 'audio_features', 'id': '3iSws76HjaU7k49EqJVTfF', 'uri': 'spotify:track:3iSws76HjaU7k49EqJVTfF', 'track_href': 'https://api.spotify.com/v1/tracks/3iSws76HjaU7k49EqJVTfF', 'analysis_url': 'https://api.spotify.com/v1/audio-analysis/3iSws76HjaU7k49EqJVTfF', 'duration_ms': 167187, 'time_signature': 4}, {'danceability': 0.149, 'energy': 0.206, 'key': 3, 'loudness': -13.888, 'mode': 1, 'speechiness': 0.0323, 'acousticness': 0.822, 'instrumentalness': 0.000649, 'liveness': 0.115, 'valence': 0.264, 'tempo': 79.764, 'type': 'audio_features', 'id': '6l8EbYRtQMgKOyc1gcDHF9', 'uri': 'spotify:track:6l8EbYRtQMgKOyc1gcDHF9', 'track_href': 'https://api.spotify.com/v1/tracks/6l8EbYRtQMgKOyc1gcDHF9', 'analysis_url': 'https://api.spotify.com/v1/audio-analysis/6l8EbYRtQMgKOyc1gcDHF9', 'duration_ms': 293120, 'time_signature': 4}, {'danceability': 0.649, 'energy': 0.679, 'key': 2, 'loudness': -12.515, 'mode': 1, 'speechiness': 0.0316, 'acousticness': 0.464, 'instrumentalness': 0.00121, 'liveness': 0.339, 'valence': 0.971, 'tempo': 126.867, 'type': 'audio_features', 'id': '2ymeOsYijJz09LfKw3yM2x', 'uri': 'spotify:track:2ymeOsYijJz09LfKw3yM2x', 'track_href': 'https://api.spotify.com/v1/tracks/2ymeOsYijJz09LfKw3yM2x', 'analysis_url': 'https://api.spotify.com/v1/audio-analysis/2ymeOsYijJz09LfKw3yM2x', 'duration_ms': 220573, 'time_signature': 4}, {'danceability': 0.311, 'energy': 0.0264, 'key': 0, 'loudness': -21.644, 'mode': 1, 'speechiness': 0.037, 'acousticness': 0.731, 'instrumentalness': 0.00205, 'liveness': 0.156, 'valence': 0.139, 'tempo': 120.653, 'type': 'audio_features', 'id': '0SxFyA4FqmEQqZVuAlg8lf', 'uri': 'spotify:track:0SxFyA4FqmEQqZVuAlg8lf', 'track_href': 'https://api.spotify.com/v1/tracks/0SxFyA4FqmEQqZVuAlg8lf', 'analysis_url': 'https://api.spotify.com/v1/audio-analysis/0SxFyA4FqmEQqZVuAlg8lf', 'duration_ms': 260666, 'time_signature': 4}, {'danceability': 0.559, 'energy': 0.615, 'key': 5, 'loudness': -12.27, 'mode': 1, 'speechiness': 0.0473, 'acousticness': 0.283, 'instrumentalness': 0, 'liveness': 0.0957, 'valence': 0.68, 'tempo': 87.601, 'type': 'audio_features', 'id': '12UzVR0M7asW2MHAZRJk0I', 'uri': 'spotify:track:12UzVR0M7asW2MHAZRJk0I', 'track_href': 'https://api.spotify.com/v1/tracks/12UzVR0M7asW2MHAZRJk0I', 'analysis_url': 'https://api.spotify.com/v1/audio-analysis/12UzVR0M7asW2MHAZRJk0I', 'duration_ms': 206253, 'time_signature': 4}, {'danceability': 0.264, 'energy': 0.32, 'key': 9, 'loudness': -11.716, 'mode': 1, 'speechiness': 0.0325, 'acousticness': 0.885, 'instrumentalness': 0.00141, 'liveness': 0.134, 'valence': 0.171, 'tempo': 138.108, 'type': 'audio_features', 'id': '1vZTgn4JXWMahR8r99ug5H', 'uri': 'spotify:track:1vZTgn4JXWMahR8r99ug5H', 'track_href': 'https://api.spotify.com/v1/tracks/1vZTgn4JXWMahR8r99ug5H', 'analysis_url': 'https://api.spotify.com/v1/audio-analysis/1vZTgn4JXWMahR8r99ug5H', 'duration_ms': 211093, 'time_signature': 3}, {'danceability': 0.681, 'energy': 0.484, 'key': 4, 'loudness': -13.67, 'mode': 1, 'speechiness': 0.0348, 'acousticness': 0.317, 'instrumentalness': 0, 'liveness': 0.121, 'valence': 0.923, 'tempo': 129.733, 'type': 'audio_features', 'id': '1f4iVGDitHYMVBaoc9GXO2', 'uri': 'spotify:track:1f4iVGDitHYMVBaoc9GXO2', 'track_href': 'https://api.spotify.com/v1/tracks/1f4iVGDitHYMVBaoc9GXO2', 'analysis_url': 'https://api.spotify.com/v1/audio-analysis/1f4iVGDitHYMVBaoc9GXO2', 'duration_ms': 206800, 'time_signature': 4}, {'danceability': 0.744, 'energy': 0.487, 'key': 0, 'loudness': -11.05, 'mode': 1, 'speechiness': 0.035, 'acousticness': 0.115, 'instrumentalness': 0.0123, 'liveness': 0.115, 'valence': 0.879, 'tempo': 124.896, 'type': 'audio_features', 'id': '5Qhfo6ZqoA2oPF5uFf43L3', 'uri': 'spotify:track:5Qhfo6ZqoA2oPF5uFf43L3', 'track_href': 'https://api.spotify.com/v1/tracks/5Qhfo6ZqoA2oPF5uFf43L3', 'analysis_url': 'https://api.spotify.com/v1/audio-analysis/5Qhfo6ZqoA2oPF5uFf43L3', 'duration_ms': 354267, 'time_signature': 4}, {'danceability': 0.551, 'energy': 0.514, 'key': 11, 'loudness': -12.617, 'mode': 1, 'speechiness': 0.0524, 'acousticness': 0.336, 'instrumentalness': 0.125, 'liveness': 0.382, 'valence': 0.721, 'tempo': 136.547, 'type': 'audio_features', 'id': '10LRRKPmx8uHcSxLVWK0ct', 'uri': 'spotify:track:10LRRKPmx8uHcSxLVWK0ct', 'track_href': 'https://api.spotify.com/v1/tracks/10LRRKPmx8uHcSxLVWK0ct', 'analysis_url': 'https://api.spotify.com/v1/audio-analysis/10LRRKPmx8uHcSxLVWK0ct', 'duration_ms': 237120, 'time_signature': 3}, {'danceability': 0.74, 'energy': 0.598, 'key': 7, 'loudness': -9.658, 'mode': 0, 'speechiness': 0.0321, 'acousticness': 0.15, 'instrumentalness': 0, 'liveness': 0.0664, 'valence': 0.952, 'tempo': 101.933, 'type': 'audio_features', 'id': '3unwRUV5qbjMmH3NJtaODy', 'uri': 'spotify:track:3unwRUV5qbjMmH3NJtaODy', 'track_href': 'https://api.spotify.com/v1/tracks/3unwRUV5qbjMmH3NJtaODy', 'analysis_url': 'https://api.spotify.com/v1/audio-analysis/3unwRUV5qbjMmH3NJtaODy', 'duration_ms': 276000, 'time_signature': 4}, {'danceability': 0.586, 'energy': 0.7, 'key': 0, 'loudness': -9.558, 'mode': 1, 'speechiness': 0.0363, 'acousticness': 0.0589, 'instrumentalness': 0.00125, 'liveness': 0.0318, 'valence': 0.897, 'tempo': 147.245, 'type': 'audio_features', 'id': '1HOMkjp0nHMaTnfAkslCQj', 'uri': 'spotify:track:1HOMkjp0nHMaTnfAkslCQj', 'track_href': 'https://api.spotify.com/v1/tracks/1HOMkjp0nHMaTnfAkslCQj', 'analysis_url': 'https://api.spotify.com/v1/audio-analysis/1HOMkjp0nHMaTnfAkslCQj', 'duration_ms': 295400, 'time_signature': 4}, {'danceability': 0.554, 'energy': 0.833, 'key': 2, 'loudness': -6.667, 'mode': 0, 'speechiness': 0.0347, 'acousticness': 0.000646, 'instrumentalness': 0.0025, 'liveness': 0.0737, 'valence': 0.773, 'tempo': 142.673, 'type': 'audio_features', 'id': '7HKxTNVlkHsfMLhigmhC0I', 'uri': 'spotify:track:7HKxTNVlkHsfMLhigmhC0I', 'track_href': 'https://api.spotify.com/v1/tracks/7HKxTNVlkHsfMLhigmhC0I', 'analysis_url': 'https://api.spotify.com/v1/audio-analysis/7HKxTNVlkHsfMLhigmhC0I', 'duration_ms': 212227, 'time_signature': 4}, {'danceability': 0.659, 'energy': 0.541, 'key': 5, 'loudness': -7.919, 'mode': 1, 'speechiness': 0.0272, 'acousticness': 0.0174, 'instrumentalness': 0, 'liveness': 0.198, 'valence': 0.56, 'tempo': 116.685, 'type': 'audio_features', 'id': '0kPeymTUiaidv48eRrMISu', 'uri': 'spotify:track:0kPeymTUiaidv48eRrMISu', 'track_href': 'https://api.spotify.com/v1/tracks/0kPeymTUiaidv48eRrMISu', 'analysis_url': 'https://api.spotify.com/v1/audio-analysis/0kPeymTUiaidv48eRrMISu', 'duration_ms': 224693, 'time_signature': 4}, {'danceability': 0.829, 'energy': 0.737, 'key': 4, 'loudness': -8.181, 'mode': 0, 'speechiness': 0.0441, 'acousticness': 0.13, 'instrumentalness': 6.25e-05, 'liveness': 0.284, 'valence': 0.857, 'tempo': 123.878, 'type': 'audio_features', 'id': '3FuL7jThtUAjneBm6puQNk', 'uri': 'spotify:track:3FuL7jThtUAjneBm6puQNk', 'track_href': 'https://api.spotify.com/v1/tracks/3FuL7jThtUAjneBm6puQNk', 'analysis_url': 'https://api.spotify.com/v1/audio-analysis/3FuL7jThtUAjneBm6puQNk', 'duration_ms': 222400, 'time_signature': 4}, {'danceability': 0.82, 'energy': 0.452, 'key': 1, 'loudness': -9.796, 'mode': 1, 'speechiness': 0.0348, 'acousticness': 0.543, 'instrumentalness': 0.00294, 'liveness': 0.0714, 'valence': 0.74, 'tempo': 117.401, 'type': 'audio_features', 'id': '1JSTJqkT5qHq8MDJnJbRE1', 'uri': 'spotify:track:1JSTJqkT5qHq8MDJnJbRE1', 'track_href': 'https://api.spotify.com/v1/tracks/1JSTJqkT5qHq8MDJnJbRE1', 'analysis_url': 'https://api.spotify.com/v1/audio-analysis/1JSTJqkT5qHq8MDJnJbRE1', 'duration_ms': 253920, 'time_signature': 4}, {'danceability': 0.729, 'energy': 0.989, 'key': 9, 'loudness': -4.613, 'mode': 0, 'speechiness': 0.049, 'acousticness': 0.0102, 'instrumentalness': 4.45e-05, 'liveness': 0.443, 'valence': 0.84, 'tempo': 126.47, 'type': 'audio_features', 'id': '51H2y6YrNNXcy3dfc3qSbA', 'uri': 'spotify:track:51H2y6YrNNXcy3dfc3qSbA', 'track_href': 'https://api.spotify.com/v1/tracks/51H2y6YrNNXcy3dfc3qSbA', 'analysis_url': 'https://api.spotify.com/v1/audio-analysis/51H2y6YrNNXcy3dfc3qSbA', 'duration_ms': 352906, 'time_signature': 4}, {'danceability': 0.574, 'energy': 0.629, 'key': 2, 'loudness': -8.815, 'mode': 0, 'speechiness': 0.0363, 'acousticness': 0.128, 'instrumentalness': 0, 'liveness': 0.271, 'valence': 0.786, 'tempo': 153.119, 'type': 'audio_features', 'id': '4jDmJ51x1o9NZB5Nxxc7gY', 'uri': 'spotify:track:4jDmJ51x1o9NZB5Nxxc7gY', 'track_href': 'https://api.spotify.com/v1/tracks/4jDmJ51x1o9NZB5Nxxc7gY', 'analysis_url': 'https://api.spotify.com/v1/audio-analysis/4jDmJ51x1o9NZB5Nxxc7gY', 'duration_ms': 300107, 'time_signature': 4}, {'danceability': 0.673, 'energy': 0.286, 'key': 8, 'loudness': -14.643, 'mode': 1, 'speechiness': 0.0313, 'acousticness': 0.294, 'instrumentalness': 0, 'liveness': 0.086, 'valence': 0.199, 'tempo': 120.117, 'type': 'audio_features', 'id': '1cOj24fUMnBSXhtp7waHVW', 'uri': 'spotify:track:1cOj24fUMnBSXhtp7waHVW', 'track_href': 'https://api.spotify.com/v1/tracks/1cOj24fUMnBSXhtp7waHVW', 'analysis_url': 'https://api.spotify.com/v1/audio-analysis/1cOj24fUMnBSXhtp7waHVW', 'duration_ms': 256467, 'time_signature': 4}, {'danceability': 0.724, 'energy': 0.891, 'key': 11, 'loudness': -7.818, 'mode': 1, 'speechiness': 0.0995, 'acousticness': 0.00344, 'instrumentalness': 4.72e-05, 'liveness': 0.3, 'valence': 0.818, 'tempo': 103.022, 'type': 'audio_features', 'id': '1Jwc3ODLQxtbnS8M9TflSP', 'uri': 'spotify:track:1Jwc3ODLQxtbnS8M9TflSP', 'track_href': 'https://api.spotify.com/v1/tracks/1Jwc3ODLQxtbnS8M9TflSP', 'analysis_url': 'https://api.spotify.com/v1/audio-analysis/1Jwc3ODLQxtbnS8M9TflSP', 'duration_ms': 204707, 'time_signature': 4}, {'danceability': 0.887, 'energy': 0.48, 'key': 11, 'loudness': -11.994, 'mode': 1, 'speechiness': 0.117, 'acousticness': 0.0094, 'instrumentalness': 3.58e-05, 'liveness': 0.0662, 'valence': 0.607, 'tempo': 95.846, 'type': 'audio_features', 'id': '0HEmnAUT8PHznIAAmVXqFJ', 'uri': 'spotify:track:0HEmnAUT8PHznIAAmVXqFJ', 'track_href': 'https://api.spotify.com/v1/tracks/0HEmnAUT8PHznIAAmVXqFJ', 'analysis_url': 'https://api.spotify.com/v1/audio-analysis/0HEmnAUT8PHznIAAmVXqFJ', 'duration_ms': 193200, 'time_signature': 4}, {'danceability': 0.394, 'energy': 0.557, 'key': 9, 'loudness': -7.152, 'mode': 1, 'speechiness': 0.0324, 'acousticness': 0.464, 'instrumentalness': 0, 'liveness': 0.112, 'valence': 0.186, 'tempo': 172.912, 'type': 'audio_features', 'id': '5VpJrXw5GRP0tSFXAzrRM5', 'uri': 'spotify:track:5VpJrXw5GRP0tSFXAzrRM5', 'track_href': 'https://api.spotify.com/v1/tracks/5VpJrXw5GRP0tSFXAzrRM5', 'analysis_url': 'https://api.spotify.com/v1/audio-analysis/5VpJrXw5GRP0tSFXAzrRM5', 'duration_ms': 240653, 'time_signature': 4}, {'danceability': 0.679, 'energy': 0.657, 'key': 5, 'loudness': -9.897, 'mode': 1, 'speechiness': 0.0255, 'acousticness': 0.4, 'instrumentalness': 0, 'liveness': 0.0497, 'valence': 0.546, 'tempo': 97.8, 'type': 'audio_features', 'id': '4VZDv8sASBS8UruUBGTFdk', 'uri': 'spotify:track:4VZDv8sASBS8UruUBGTFdk', 'track_href': 'https://api.spotify.com/v1/tracks/4VZDv8sASBS8UruUBGTFdk', 'analysis_url': 'https://api.spotify.com/v1/audio-analysis/4VZDv8sASBS8UruUBGTFdk', 'duration_ms': 266867, 'time_signature': 4}, {'danceability': 0.526, 'energy': 0.365, 'key': 1, 'loudness': -12.605, 'mode': 1, 'speechiness': 0.028, 'acousticness': 0.0775, 'instrumentalness': 1.35e-05, 'liveness': 0.0618, 'valence': 0.253, 'tempo': 131.253, 'type': 'audio_features', 'id': '6eBK3edMW7bEzecF1eCezc', 'uri': 'spotify:track:6eBK3edMW7bEzecF1eCezc', 'track_href': 'https://api.spotify.com/v1/tracks/6eBK3edMW7bEzecF1eCezc', 'analysis_url': 'https://api.spotify.com/v1/audio-analysis/6eBK3edMW7bEzecF1eCezc', 'duration_ms': 394133, 'time_signature': 4}, {'danceability': 0.64, 'energy': 0.427, 'key': 5, 'loudness': -9.29, 'mode': 0, 'speechiness': 0.0241, 'acousticness': 0.0664, 'instrumentalness': 0, 'liveness': 0.0579, 'valence': 0.529, 'tempo': 149.703, 'type': 'audio_features', 'id': '3l3xTXsUXeWlkPqzMs7mPD', 'uri': 'spotify:track:3l3xTXsUXeWlkPqzMs7mPD', 'track_href': 'https://api.spotify.com/v1/tracks/3l3xTXsUXeWlkPqzMs7mPD', 'analysis_url': 'https://api.spotify.com/v1/audio-analysis/3l3xTXsUXeWlkPqzMs7mPD', 'duration_ms': 351467, 'time_signature': 3}, {'danceability': 0.332, 'energy': 0.214, 'key': 4, 'loudness': -12.518, 'mode': 1, 'speechiness': 0.0349, 'acousticness': 0.845, 'instrumentalness': 5.62e-06, 'liveness': 0.0839, 'valence': 0.11, 'tempo': 67.531, 'type': 'audio_features', 'id': '4eHbdreAnSOrDDsFfc4Fpm', 'uri': 'spotify:track:4eHbdreAnSOrDDsFfc4Fpm', 'track_href': 'https://api.spotify.com/v1/tracks/4eHbdreAnSOrDDsFfc4Fpm', 'analysis_url': 'https://api.spotify.com/v1/audio-analysis/4eHbdreAnSOrDDsFfc4Fpm', 'duration_ms': 271093, 'time_signature': 4}, {'danceability': 0.808, 'energy': 0.786, 'key': 4, 'loudness': -6.897, 'mode': 0, 'speechiness': 0.0447, 'acousticness': 0.00928, 'instrumentalness': 0.0701, 'liveness': 0.0574, 'valence': 0.899, 'tempo': 96.987, 'type': 'audio_features', 'id': '0hrBpAOgrt8RXigk83LLNE', 'uri': 'spotify:track:0hrBpAOgrt8RXigk83LLNE', 'track_href': 'https://api.spotify.com/v1/tracks/0hrBpAOgrt8RXigk83LLNE', 'analysis_url': 'https://api.spotify.com/v1/audio-analysis/0hrBpAOgrt8RXigk83LLNE', 'duration_ms': 191240, 'time_signature': 4}, {'danceability': 0.647, 'energy': 0.514, 'key': 8, 'loudness': -10.05, 'mode': 1, 'speechiness': 0.0593, 'acousticness': 0.0655, 'instrumentalness': 0, 'liveness': 0.398, 'valence': 0.387, 'tempo': 79.974, 'type': 'audio_features', 'id': '7lQWRAjyhTpCWFC0jmclT4', 'uri': 'spotify:track:7lQWRAjyhTpCWFC0jmclT4', 'track_href': 'https://api.spotify.com/v1/tracks/7lQWRAjyhTpCWFC0jmclT4', 'analysis_url': 'https://api.spotify.com/v1/audio-analysis/7lQWRAjyhTpCWFC0jmclT4', 'duration_ms': 240693, 'time_signature': 4}, {'danceability': 0.737, 'energy': 0.93, 'key': 1, 'loudness': -6.083, 'mode': 1, 'speechiness': 0.0534, 'acousticness': 0.237, 'instrumentalness': 1.57e-06, 'liveness': 0.0911, 'valence': 0.965, 'tempo': 103.191, 'type': 'audio_features', 'id': '2df5QsXucx4VLiHNGusXD5', 'uri': 'spotify:track:2df5QsXucx4VLiHNGusXD5', 'track_href': 'https://api.spotify.com/v1/tracks/2df5QsXucx4VLiHNGusXD5', 'analysis_url': 'https://api.spotify.com/v1/audio-analysis/2df5QsXucx4VLiHNGusXD5', 'duration_ms': 253107, 'time_signature': 4}, {'danceability': 0.45, 'energy': 0.311, 'key': 4, 'loudness': -8.175, 'mode': 1, 'speechiness': 0.0314, 'acousticness': 0.977, 'instrumentalness': 0.00713, 'liveness': 0.167, 'valence': 0.367, 'tempo': 125.648, 'type': 'audio_features', 'id': '3DUcaEvPO72PijivCjtZcU', 'uri': 'spotify:track:3DUcaEvPO72PijivCjtZcU', 'track_href': 'https://api.spotify.com/v1/tracks/3DUcaEvPO72PijivCjtZcU', 'analysis_url': 'https://api.spotify.com/v1/audio-analysis/3DUcaEvPO72PijivCjtZcU', 'duration_ms': 250107, 'time_signature': 4}, {'danceability': 0.847, 'energy': 0.402, 'key': 7, 'loudness': -9.952, 'mode': 1, 'speechiness': 0.0641, 'acousticness': 0.0118, 'instrumentalness': 0, 'liveness': 0.283, 'valence': 0.752, 'tempo': 99.693, 'type': 'audio_features', 'id': '5IFCyWplye09HytIP80RCF', 'uri': 'spotify:track:5IFCyWplye09HytIP80RCF', 'track_href': 'https://api.spotify.com/v1/tracks/5IFCyWplye09HytIP80RCF', 'analysis_url': 'https://api.spotify.com/v1/audio-analysis/5IFCyWplye09HytIP80RCF', 'duration_ms': 259440, 'time_signature': 4}, {'danceability': 0.652, 'energy': 0.917, 'key': 6, 'loudness': -6.72, 'mode': 1, 'speechiness': 0.0548, 'acousticness': 0.0082, 'instrumentalness': 0, 'liveness': 0.0509, 'valence': 0.459, 'tempo': 132.975, 'type': 'audio_features', 'id': '2goLsvvODILDzeeiT4dAoR', 'uri': 'spotify:track:2goLsvvODILDzeeiT4dAoR', 'track_href': 'https://api.spotify.com/v1/tracks/2goLsvvODILDzeeiT4dAoR', 'analysis_url': 'https://api.spotify.com/v1/audio-analysis/2goLsvvODILDzeeiT4dAoR', 'duration_ms': 239027, 'time_signature': 4}, {'danceability': 0.529, 'energy': 0.496, 'key': 7, 'loudness': -9.007, 'mode': 1, 'speechiness': 0.029, 'acousticness': 0.173, 'instrumentalness': 0, 'liveness': 0.251, 'valence': 0.278, 'tempo': 136.859, 'type': 'audio_features', 'id': '3y4LxiYMgDl4RethdzpmNe', 'uri': 'spotify:track:3y4LxiYMgDl4RethdzpmNe', 'track_href': 'https://api.spotify.com/v1/tracks/3y4LxiYMgDl4RethdzpmNe', 'analysis_url': 'https://api.spotify.com/v1/audio-analysis/3y4LxiYMgDl4RethdzpmNe', 'duration_ms': 250547, 'time_signature': 4}, {'danceability': 0.541, 'energy': 0.864, 'key': 1, 'loudness': -4.915, 'mode': 1, 'speechiness': 0.0357, 'acousticness': 0.00118, 'instrumentalness': 0, 'liveness': 0.0896, 'valence': 0.435, 'tempo': 124.557, 'type': 'audio_features', 'id': '0wqOReZDnrefefEsrIGeR4', 'uri': 'spotify:track:0wqOReZDnrefefEsrIGeR4', 'track_href': 'https://api.spotify.com/v1/tracks/0wqOReZDnrefefEsrIGeR4', 'analysis_url': 'https://api.spotify.com/v1/audio-analysis/0wqOReZDnrefefEsrIGeR4', 'duration_ms': 216067, 'time_signature': 4}, {'danceability': 0.446, 'energy': 0.764, 'key': 10, 'loudness': -5.042, 'mode': 1, 'speechiness': 0.033, 'acousticness': 0.00135, 'instrumentalness': 0, 'liveness': 0.099, 'valence': 0.543, 'tempo': 172.094, 'type': 'audio_features', 'id': '0gmbgwZ8iqyMPmXefof8Yf', 'uri': 'spotify:track:0gmbgwZ8iqyMPmXefof8Yf', 'track_href': 'https://api.spotify.com/v1/tracks/0gmbgwZ8iqyMPmXefof8Yf', 'analysis_url': 'https://api.spotify.com/v1/audio-analysis/0gmbgwZ8iqyMPmXefof8Yf', 'duration_ms': 223840, 'time_signature': 4}, {'danceability': 0.902, 'energy': 0.72, 'key': 6, 'loudness': -2.776, 'mode': 0, 'speechiness': 0.347, 'acousticness': 0.26, 'instrumentalness': 0, 'liveness': 0.0749, 'valence': 0.805, 'tempo': 90.059, 'type': 'audio_features', 'id': '3deUegCTzY5SH15lFlTbUP', 'uri': 'spotify:track:3deUegCTzY5SH15lFlTbUP', 'track_href': 'https://api.spotify.com/v1/tracks/3deUegCTzY5SH15lFlTbUP', 'analysis_url': 'https://api.spotify.com/v1/audio-analysis/3deUegCTzY5SH15lFlTbUP', 'duration_ms': 193467, 'time_signature': 4}, {'danceability': 0.894, 'energy': 0.791, 'key': 2, 'loudness': -4.699, 'mode': 1, 'speechiness': 0.112, 'acousticness': 0.0183, 'instrumentalness': 0, 'liveness': 0.0388, 'valence': 0.583, 'tempo': 105.018, 'type': 'audio_features', 'id': '5rb9QrpfcKFHM1EUbSIurX', 'uri': 'spotify:track:5rb9QrpfcKFHM1EUbSIurX', 'track_href': 'https://api.spotify.com/v1/tracks/5rb9QrpfcKFHM1EUbSIurX', 'analysis_url': 'https://api.spotify.com/v1/audio-analysis/5rb9QrpfcKFHM1EUbSIurX', 'duration_ms': 250373, 'time_signature': 4}, {'danceability': 0.837, 'energy': 0.462, 'key': 0, 'loudness': -7.89, 'mode': 1, 'speechiness': 0.0601, 'acousticness': 0.0339, 'instrumentalness': 0, 'liveness': 0.09, 'valence': 0.762, 'tempo': 139.986, 'type': 'audio_features', 'id': '3LmvfNUQtglbTrydsdIqFU', 'uri': 'spotify:track:3LmvfNUQtglbTrydsdIqFU', 'track_href': 'https://api.spotify.com/v1/tracks/3LmvfNUQtglbTrydsdIqFU', 'analysis_url': 'https://api.spotify.com/v1/audio-analysis/3LmvfNUQtglbTrydsdIqFU', 'duration_ms': 201400, 'time_signature': 4}, {'danceability': 0.599, 'energy': 0.785, 'key': 3, 'loudness': -4.013, 'mode': 1, 'speechiness': 0.0309, 'acousticness': 0.448, 'instrumentalness': 0.00336, 'liveness': 0.151, 'valence': 0.52, 'tempo': 140.046, 'type': 'audio_features', 'id': '0mUyMawtxj1CJ76kn9gIZK', 'uri': 'spotify:track:0mUyMawtxj1CJ76kn9gIZK', 'track_href': 'https://api.spotify.com/v1/tracks/0mUyMawtxj1CJ76kn9gIZK', 'analysis_url': 'https://api.spotify.com/v1/audio-analysis/0mUyMawtxj1CJ76kn9gIZK', 'duration_ms': 233640, 'time_signature': 4}, {'danceability': 0.576, 'energy': 0.697, 'key': 10, 'loudness': -4.192, 'mode': 1, 'speechiness': 0.326, 'acousticness': 0.0286, 'instrumentalness': 1.15e-06, 'liveness': 0.167, 'valence': 0.501, 'tempo': 175.906, 'type': 'audio_features', 'id': '1G7DcLzPnopdZjLkev0K4e', 'uri': 'spotify:track:1G7DcLzPnopdZjLkev0K4e', 'track_href': 'https://api.spotify.com/v1/tracks/1G7DcLzPnopdZjLkev0K4e', 'analysis_url': 'https://api.spotify.com/v1/audio-analysis/1G7DcLzPnopdZjLkev0K4e', 'duration_ms': 227667, 'time_signature': 4}, {'danceability': 0.918, 'energy': 0.609, 'key': 10, 'loudness': -5.64, 'mode': 0, 'speechiness': 0.0791, 'acousticness': 0.0928, 'instrumentalness': 0, 'liveness': 0.139, 'valence': 0.304, 'tempo': 128.008, 'type': 'audio_features', 'id': '0CAfXk7DXMnon4gLudAp7J', 'uri': 'spotify:track:0CAfXk7DXMnon4gLudAp7J', 'track_href': 'https://api.spotify.com/v1/tracks/0CAfXk7DXMnon4gLudAp7J', 'analysis_url': 'https://api.spotify.com/v1/audio-analysis/0CAfXk7DXMnon4gLudAp7J', 'duration_ms': 231400, 'time_signature': 4}, {'danceability': 0.867, 'energy': 0.857, 'key': 9, 'loudness': -5.892, 'mode': 1, 'speechiness': 0.0663, 'acousticness': 0.13, 'instrumentalness': 0.00171, 'liveness': 0.13, 'valence': 0.402, 'tempo': 130.048, 'type': 'audio_features', 'id': '7xRNsqOQOgWbHV1nbXnfXN', 'uri': 'spotify:track:7xRNsqOQOgWbHV1nbXnfXN', 'track_href': 'https://api.spotify.com/v1/tracks/7xRNsqOQOgWbHV1nbXnfXN', 'analysis_url': 'https://api.spotify.com/v1/audio-analysis/7xRNsqOQOgWbHV1nbXnfXN', 'duration_ms': 251440, 'time_signature': 4}, {'danceability': 0.755, 'energy': 0.837, 'key': 2, 'loudness': -2.718, 'mode': 0, 'speechiness': 0.142, 'acousticness': 0.0991, 'instrumentalness': 0, 'liveness': 0.289, 'valence': 0.714, 'tempo': 120.028, 'type': 'audio_features', 'id': '0HPD5WQqrq7wPWR7P7Dw1i', 'uri': 'spotify:track:0HPD5WQqrq7wPWR7P7Dw1i', 'track_href': 'https://api.spotify.com/v1/tracks/0HPD5WQqrq7wPWR7P7Dw1i', 'analysis_url': 'https://api.spotify.com/v1/audio-analysis/0HPD5WQqrq7wPWR7P7Dw1i', 'duration_ms': 199693, 'time_signature': 4}, {'danceability': 0.729, 'energy': 0.756, 'key': 8, 'loudness': -5.119, 'mode': 1, 'speechiness': 0.0294, 'acousticness': 0.131, 'instrumentalness': 0, 'liveness': 0.0527, 'valence': 0.522, 'tempo': 104.945, 'type': 'audio_features', 'id': '1CkvWZme3pRgbzaxZnTl5X', 'uri': 'spotify:track:1CkvWZme3pRgbzaxZnTl5X', 'track_href': 'https://api.spotify.com/v1/tracks/1CkvWZme3pRgbzaxZnTl5X', 'analysis_url': 'https://api.spotify.com/v1/audio-analysis/1CkvWZme3pRgbzaxZnTl5X', 'duration_ms': 228293, 'time_signature': 4}, {'danceability': 0.864, 'energy': 0.495, 'key': 0, 'loudness': -7.036, 'mode': 1, 'speechiness': 0.037, 'acousticness': 0.591, 'instrumentalness': 0.000133, 'liveness': 0.0992, 'valence': 0.72, 'tempo': 129.062, 'type': 'audio_features', 'id': '4wCmqSrbyCgxEXROQE6vtV', 'uri': 'spotify:track:4wCmqSrbyCgxEXROQE6vtV', 'track_href': 'https://api.spotify.com/v1/tracks/4wCmqSrbyCgxEXROQE6vtV', 'analysis_url': 'https://api.spotify.com/v1/audio-analysis/4wCmqSrbyCgxEXROQE6vtV', 'duration_ms': 244973, 'time_signature': 4}, {'danceability': 0.781, 'energy': 0.526, 'key': 6, 'loudness': -6.985, 'mode': 0, 'speechiness': 0.293, 'acousticness': 0.0619, 'instrumentalness': 0, 'liveness': 0.0457, 'valence': 0.662, 'tempo': 94.992, 'type': 'audio_features', 'id': '4YMqbFcDIFiCBd02PzUBcM', 'uri': 'spotify:track:4YMqbFcDIFiCBd02PzUBcM', 'track_href': 'https://api.spotify.com/v1/tracks/4YMqbFcDIFiCBd02PzUBcM', 'analysis_url': 'https://api.spotify.com/v1/audio-analysis/4YMqbFcDIFiCBd02PzUBcM', 'duration_ms': 235613, 'time_signature': 4}, {'danceability': 0.647, 'energy': 0.822, 'key': 5, 'loudness': -4.662, 'mode': 0, 'speechiness': 0.183, 'acousticness': 0.219, 'instrumentalness': 0, 'liveness': 0.0908, 'valence': 0.962, 'tempo': 160.019, 'type': 'audio_features', 'id': '5b88tNINg4Q4nrRbrCXUmg', 'uri': 'spotify:track:5b88tNINg4Q4nrRbrCXUmg', 'track_href': 'https://api.spotify.com/v1/tracks/5b88tNINg4Q4nrRbrCXUmg', 'analysis_url': 'https://api.spotify.com/v1/audio-analysis/5b88tNINg4Q4nrRbrCXUmg', 'duration_ms': 232720, 'time_signature': 4}, {'danceability': 0.856, 'energy': 0.609, 'key': 0, 'loudness': -7.223, 'mode': 1, 'speechiness': 0.0824, 'acousticness': 0.00801, 'instrumentalness': 8.15e-05, 'liveness': 0.0344, 'valence': 0.928, 'tempo': 114.988, 'type': 'audio_features', 'id': '32OlwWuMpZ6b0aN2RZOeMS', 'uri': 'spotify:track:32OlwWuMpZ6b0aN2RZOeMS', 'track_href': 'https://api.spotify.com/v1/tracks/32OlwWuMpZ6b0aN2RZOeMS', 'analysis_url': 'https://api.spotify.com/v1/audio-analysis/32OlwWuMpZ6b0aN2RZOeMS', 'duration_ms': 269667, 'time_signature': 4}, {'danceability': 0.609, 'energy': 0.378, 'key': 4, 'loudness': -9.828, 'mode': 1, 'speechiness': 0.438, 'acousticness': 0.835, 'instrumentalness': 0, 'liveness': 0.28, 'valence': 0.515, 'tempo': 100.418, 'type': 'audio_features', 'id': '50kpGaPAhYJ3sGmk6vplg0', 'uri': 'spotify:track:50kpGaPAhYJ3sGmk6vplg0', 'track_href': 'https://api.spotify.com/v1/tracks/50kpGaPAhYJ3sGmk6vplg0', 'analysis_url': 'https://api.spotify.com/v1/audio-analysis/50kpGaPAhYJ3sGmk6vplg0', 'duration_ms': 233720, 'time_signature': 4}, {'danceability': 0.825, 'energy': 0.652, 'key': 1, 'loudness': -3.183, 'mode': 0, 'speechiness': 0.0802, 'acousticness': 0.581, 'instrumentalness': 0, 'liveness': 0.0931, 'valence': 0.931, 'tempo': 95.977, 'type': 'audio_features', 'id': '7qiZfU4dY1lWllzX7mPBI3', 'uri': 'spotify:track:7qiZfU4dY1lWllzX7mPBI3', 'track_href': 'https://api.spotify.com/v1/tracks/7qiZfU4dY1lWllzX7mPBI3', 'analysis_url': 'https://api.spotify.com/v1/audio-analysis/7qiZfU4dY1lWllzX7mPBI3', 'duration_ms': 233713, 'time_signature': 4}, {'danceability': 0.754, 'energy': 0.449, 'key': 7, 'loudness': -9.211, 'mode': 1, 'speechiness': 0.109, 'acousticness': 0.0332, 'instrumentalness': 8.29e-05, 'liveness': 0.552, 'valence': 0.357, 'tempo': 77.169, 'type': 'audio_features', 'id': '6DCZcSspjsKoFjzjrWoCdn', 'uri': 'spotify:track:6DCZcSspjsKoFjzjrWoCdn', 'track_href': 'https://api.spotify.com/v1/tracks/6DCZcSspjsKoFjzjrWoCdn', 'analysis_url': 'https://api.spotify.com/v1/audio-analysis/6DCZcSspjsKoFjzjrWoCdn', 'duration_ms': 198973, 'time_signature': 4}, {'danceability': 0.878, 'energy': 0.619, 'key': 6, 'loudness': -5.56, 'mode': 1, 'speechiness': 0.102, 'acousticness': 0.0533, 'instrumentalness': 0, 'liveness': 0.113, 'valence': 0.639, 'tempo': 136.041, 'type': 'audio_features', 'id': '2YpeDb67231RjR0MgVLzsG', 'uri': 'spotify:track:2YpeDb67231RjR0MgVLzsG', 'track_href': 'https://api.spotify.com/v1/tracks/2YpeDb67231RjR0MgVLzsG', 'analysis_url': 'https://api.spotify.com/v1/audio-analysis/2YpeDb67231RjR0MgVLzsG', 'duration_ms': 157067, 'time_signature': 4}, {'danceability': 0.514, 'energy': 0.73, 'key': 1, 'loudness': -5.934, 'mode': 1, 'speechiness': 0.0598, 'acousticness': 0.00146, 'instrumentalness': 9.54e-05, 'liveness': 0.0897, 'valence': 0.334, 'tempo': 171.005, 'type': 'audio_features', 'id': '0VjIjW4GlUZAMYd2vXMi3b', 'uri': 'spotify:track:0VjIjW4GlUZAMYd2vXMi3b', 'track_href': 'https://api.spotify.com/v1/tracks/0VjIjW4GlUZAMYd2vXMi3b', 'analysis_url': 'https://api.spotify.com/v1/audio-analysis/0VjIjW4GlUZAMYd2vXMi3b', 'duration_ms': 200040, 'time_signature': 4}, {'danceability': 0.702, 'energy': 0.825, 'key': 6, 'loudness': -3.787, 'mode': 0, 'speechiness': 0.0601, 'acousticness': 0.00883, 'instrumentalness': 0, 'liveness': 0.0674, 'valence': 0.915, 'tempo': 102.977, 'type': 'audio_features', 'id': '463CkQjx2Zk1yXoBuierM9', 'uri': 'spotify:track:463CkQjx2Zk1yXoBuierM9', 'track_href': 'https://api.spotify.com/v1/tracks/463CkQjx2Zk1yXoBuierM9', 'analysis_url': 'https://api.spotify.com/v1/audio-analysis/463CkQjx2Zk1yXoBuierM9', 'duration_ms': 203064, 'time_signature': 4}]\n"
     ]
    }
   ],
   "source": [
    "#create list of track features of all songs\n",
    "trackFeaturesList = spotify.audio_features(tracks=IDlist)\n",
    "print(trackFeaturesList)"
   ]
  },
  {
   "cell_type": "code",
   "execution_count": 8,
   "id": "3321197f",
   "metadata": {},
   "outputs": [
    {
     "data": {
      "text/html": [
       "<div>\n",
       "<style scoped>\n",
       "    .dataframe tbody tr th:only-of-type {\n",
       "        vertical-align: middle;\n",
       "    }\n",
       "\n",
       "    .dataframe tbody tr th {\n",
       "        vertical-align: top;\n",
       "    }\n",
       "\n",
       "    .dataframe thead th {\n",
       "        text-align: right;\n",
       "    }\n",
       "</style>\n",
       "<table border=\"1\" class=\"dataframe\">\n",
       "  <thead>\n",
       "    <tr style=\"text-align: right;\">\n",
       "      <th></th>\n",
       "      <th>year</th>\n",
       "      <th>name</th>\n",
       "      <th>danceability</th>\n",
       "      <th>energy</th>\n",
       "      <th>loudness</th>\n",
       "      <th>acousticness</th>\n",
       "      <th>tempo</th>\n",
       "    </tr>\n",
       "  </thead>\n",
       "  <tbody>\n",
       "    <tr>\n",
       "      <th>0</th>\n",
       "      <td>1946</td>\n",
       "      <td>Prisoner of Love - Remastered - 1992</td>\n",
       "      <td>0.342</td>\n",
       "      <td>0.236</td>\n",
       "      <td>-8.276</td>\n",
       "      <td>0.762</td>\n",
       "      <td>76.747</td>\n",
       "    </tr>\n",
       "    <tr>\n",
       "      <th>1</th>\n",
       "      <td>1947</td>\n",
       "      <td>Near You</td>\n",
       "      <td>0.748</td>\n",
       "      <td>0.166</td>\n",
       "      <td>-14.963</td>\n",
       "      <td>0.681</td>\n",
       "      <td>122.250</td>\n",
       "    </tr>\n",
       "    <tr>\n",
       "      <th>2</th>\n",
       "      <td>1948</td>\n",
       "      <td>Twelfth Street Rag</td>\n",
       "      <td>0.530</td>\n",
       "      <td>0.570</td>\n",
       "      <td>-7.942</td>\n",
       "      <td>0.551</td>\n",
       "      <td>105.621</td>\n",
       "    </tr>\n",
       "    <tr>\n",
       "      <th>3</th>\n",
       "      <td>1949</td>\n",
       "      <td>Riders In the Sky</td>\n",
       "      <td>0.428</td>\n",
       "      <td>0.587</td>\n",
       "      <td>-5.039</td>\n",
       "      <td>0.957</td>\n",
       "      <td>126.574</td>\n",
       "    </tr>\n",
       "    <tr>\n",
       "      <th>4</th>\n",
       "      <td>1950</td>\n",
       "      <td>Goodnight Irene</td>\n",
       "      <td>0.335</td>\n",
       "      <td>0.255</td>\n",
       "      <td>-10.561</td>\n",
       "      <td>0.843</td>\n",
       "      <td>141.158</td>\n",
       "    </tr>\n",
       "  </tbody>\n",
       "</table>\n",
       "</div>"
      ],
      "text/plain": [
       "   year                                  name  danceability  energy  loudness  \\\n",
       "0  1946  Prisoner of Love - Remastered - 1992         0.342   0.236    -8.276   \n",
       "1  1947                              Near You         0.748   0.166   -14.963   \n",
       "2  1948                    Twelfth Street Rag         0.530   0.570    -7.942   \n",
       "3  1949                     Riders In the Sky         0.428   0.587    -5.039   \n",
       "4  1950                       Goodnight Irene         0.335   0.255   -10.561   \n",
       "\n",
       "   acousticness    tempo  \n",
       "0         0.762   76.747  \n",
       "1         0.681  122.250  \n",
       "2         0.551  105.621  \n",
       "3         0.957  126.574  \n",
       "4         0.843  141.158  "
      ]
     },
     "execution_count": 8,
     "metadata": {},
     "output_type": "execute_result"
    }
   ],
   "source": [
    "#create empty list to put input song dicts\n",
    "allSongs = []\n",
    "\n",
    "#year of first song\n",
    "year = 1946\n",
    "\n",
    "#for loop to add track info to the DataFrame\n",
    "for x in range(0, totalSongs):\n",
    "    \n",
    "    #get song name\n",
    "    songInfo = spotify.track(IDlist[x])\n",
    "    songName = songInfo['name']\n",
    "    \n",
    "    #get song features\n",
    "    trackFeatures = trackFeaturesList[x]\n",
    "    danceability = trackFeatures['danceability']\n",
    "    energy = trackFeatures['energy']\n",
    "    loudness = trackFeatures['loudness']\n",
    "    acousticness = trackFeatures['acousticness']\n",
    "    tempo = trackFeatures['tempo']\n",
    "    \n",
    "    #create dictionary from song info\n",
    "    song = {\n",
    "        'year':year,\n",
    "        'name':songName, \n",
    "        'danceability':danceability, \n",
    "        'energy':energy,\n",
    "        'loudness':loudness,\n",
    "        'acousticness':acousticness,\n",
    "        'tempo':tempo  \n",
    "    }\n",
    "    \n",
    "    #increment year with 1\n",
    "    year = year + 1\n",
    "    \n",
    "    #add dictionary to list\n",
    "    allSongs.append(song)\n",
    "\n",
    "#change list into Pandas DataFrame\n",
    "allSongsDF = pd.DataFrame(allSongs)\n",
    "allSongsDF.head()"
   ]
  },
  {
   "cell_type": "code",
   "execution_count": 35,
   "id": "761a87c4",
   "metadata": {},
   "outputs": [
    {
     "data": {
      "application/vnd.plotly.v1+json": {
       "config": {
        "plotlyServerURL": "https://plot.ly"
       },
       "data": [
        {
         "mode": "markers",
         "name": "danceability",
         "type": "scatter",
         "x": [
          1946,
          1947,
          1948,
          1949,
          1950,
          1951,
          1952,
          1953,
          1954,
          1955,
          1956,
          1957,
          1958,
          1959,
          1960,
          1961,
          1962,
          1963,
          1964,
          1965,
          1966,
          1967,
          1968,
          1969,
          1970,
          1971,
          1972,
          1973,
          1974,
          1975,
          1976,
          1977,
          1978,
          1979,
          1980,
          1981,
          1982,
          1983,
          1984,
          1985,
          1986,
          1987,
          1988,
          1989,
          1990,
          1991,
          1992,
          1993,
          1994,
          1995,
          1996,
          1997,
          1998,
          1999,
          2000,
          2001,
          2002,
          2003,
          2004,
          2005,
          2006,
          2007,
          2008,
          2009,
          2010,
          2011,
          2012,
          2013,
          2014,
          2015,
          2016,
          2017,
          2018,
          2019,
          2020,
          2021
         ],
         "y": [
          0.342,
          0.748,
          0.53,
          0.428,
          0.335,
          0.201,
          0.328,
          0.205,
          0.403,
          0.51,
          0.696,
          0.624,
          0.52,
          0.703,
          0.466,
          0.569,
          0.313,
          0.792,
          0.49,
          0.696,
          0.715,
          0.546,
          0.386,
          0.736,
          0.149,
          0.649,
          0.311,
          0.559,
          0.264,
          0.681,
          0.744,
          0.551,
          0.74,
          0.586,
          0.554,
          0.659,
          0.829,
          0.82,
          0.729,
          0.574,
          0.673,
          0.724,
          0.887,
          0.394,
          0.679,
          0.526,
          0.64,
          0.332,
          0.808,
          0.647,
          0.737,
          0.45,
          0.847,
          0.652,
          0.529,
          0.541,
          0.446,
          0.902,
          0.894,
          0.837,
          0.599,
          0.576,
          0.918,
          0.867,
          0.755,
          0.729,
          0.864,
          0.781,
          0.647,
          0.856,
          0.609,
          0.825,
          0.754,
          0.878,
          0.514,
          0.702
         ]
        },
        {
         "mode": "markers",
         "name": "energy",
         "type": "scatter",
         "x": [
          1946,
          1947,
          1948,
          1949,
          1950,
          1951,
          1952,
          1953,
          1954,
          1955,
          1956,
          1957,
          1958,
          1959,
          1960,
          1961,
          1962,
          1963,
          1964,
          1965,
          1966,
          1967,
          1968,
          1969,
          1970,
          1971,
          1972,
          1973,
          1974,
          1975,
          1976,
          1977,
          1978,
          1979,
          1980,
          1981,
          1982,
          1983,
          1984,
          1985,
          1986,
          1987,
          1988,
          1989,
          1990,
          1991,
          1992,
          1993,
          1994,
          1995,
          1996,
          1997,
          1998,
          1999,
          2000,
          2001,
          2002,
          2003,
          2004,
          2005,
          2006,
          2007,
          2008,
          2009,
          2010,
          2011,
          2012,
          2013,
          2014,
          2015,
          2016,
          2017,
          2018,
          2019,
          2020,
          2021
         ],
         "y": [
          0.236,
          0.166,
          0.57,
          0.587,
          0.255,
          0.213,
          0.144,
          0.355,
          0.0938,
          0.344,
          0.21,
          0.468,
          0.0721,
          0.753,
          0.389,
          0.722,
          0.329,
          0.804,
          0.715,
          0.692,
          0.327,
          0.399,
          0.607,
          0.871,
          0.206,
          0.679,
          0.0264,
          0.615,
          0.32,
          0.484,
          0.487,
          0.514,
          0.598,
          0.7,
          0.833,
          0.541,
          0.737,
          0.452,
          0.989,
          0.629,
          0.286,
          0.891,
          0.48,
          0.557,
          0.657,
          0.365,
          0.427,
          0.214,
          0.786,
          0.514,
          0.93,
          0.311,
          0.402,
          0.917,
          0.496,
          0.864,
          0.764,
          0.72,
          0.791,
          0.462,
          0.785,
          0.697,
          0.609,
          0.857,
          0.837,
          0.756,
          0.495,
          0.526,
          0.822,
          0.609,
          0.378,
          0.652,
          0.449,
          0.619,
          0.73,
          0.825
         ]
        },
        {
         "mode": "markers",
         "name": "loudness",
         "type": "scatter",
         "x": [
          1946,
          1947,
          1948,
          1949,
          1950,
          1951,
          1952,
          1953,
          1954,
          1955,
          1956,
          1957,
          1958,
          1959,
          1960,
          1961,
          1962,
          1963,
          1964,
          1965,
          1966,
          1967,
          1968,
          1969,
          1970,
          1971,
          1972,
          1973,
          1974,
          1975,
          1976,
          1977,
          1978,
          1979,
          1980,
          1981,
          1982,
          1983,
          1984,
          1985,
          1986,
          1987,
          1988,
          1989,
          1990,
          1991,
          1992,
          1993,
          1994,
          1995,
          1996,
          1997,
          1998,
          1999,
          2000,
          2001,
          2002,
          2003,
          2004,
          2005,
          2006,
          2007,
          2008,
          2009,
          2010,
          2011,
          2012,
          2013,
          2014,
          2015,
          2016,
          2017,
          2018,
          2019,
          2020,
          2021
         ],
         "y": [
          -8.276,
          -14.963,
          -7.942,
          -5.039,
          -10.561,
          -14.531,
          -21.882,
          -9.078,
          -18.535,
          -13.14,
          -11.922,
          -12.162,
          -14.38,
          -11.783,
          -12.825,
          -8.914,
          -12.47,
          -7.484,
          -5.549,
          -9.586,
          -11.814,
          -9.378,
          -7.7,
          -2.786,
          -13.888,
          -12.515,
          -21.644,
          -12.27,
          -11.716,
          -13.67,
          -11.05,
          -12.617,
          -9.658,
          -9.558,
          -6.667,
          -7.919,
          -8.181,
          -9.796,
          -4.613,
          -8.815,
          -14.643,
          -7.818,
          -11.994,
          -7.152,
          -9.897,
          -12.605,
          -9.29,
          -12.518,
          -6.897,
          -10.05,
          -6.083,
          -8.175,
          -9.952,
          -6.72,
          -9.007,
          -4.915,
          -5.042,
          -2.776,
          -4.699,
          -7.89,
          -4.013,
          -4.192,
          -5.64,
          -5.892,
          -2.718,
          -5.119,
          -7.036,
          -6.985,
          -4.662,
          -7.223,
          -9.828,
          -3.183,
          -9.211,
          -5.56,
          -5.934,
          -3.787
         ]
        },
        {
         "mode": "markers",
         "name": "acousticness",
         "type": "scatter",
         "x": [
          1946,
          1947,
          1948,
          1949,
          1950,
          1951,
          1952,
          1953,
          1954,
          1955,
          1956,
          1957,
          1958,
          1959,
          1960,
          1961,
          1962,
          1963,
          1964,
          1965,
          1966,
          1967,
          1968,
          1969,
          1970,
          1971,
          1972,
          1973,
          1974,
          1975,
          1976,
          1977,
          1978,
          1979,
          1980,
          1981,
          1982,
          1983,
          1984,
          1985,
          1986,
          1987,
          1988,
          1989,
          1990,
          1991,
          1992,
          1993,
          1994,
          1995,
          1996,
          1997,
          1998,
          1999,
          2000,
          2001,
          2002,
          2003,
          2004,
          2005,
          2006,
          2007,
          2008,
          2009,
          2010,
          2011,
          2012,
          2013,
          2014,
          2015,
          2016,
          2017,
          2018,
          2019,
          2020,
          2021
         ],
         "y": [
          0.762,
          0.681,
          0.551,
          0.957,
          0.843,
          0.805,
          0.739,
          0.927,
          0.866,
          0.517,
          0.84,
          0.881,
          0.967,
          0.803,
          0.631,
          0.225,
          0.825,
          0.225,
          0.386,
          0.577,
          0.782,
          0.361,
          0.0112,
          0.466,
          0.822,
          0.464,
          0.731,
          0.283,
          0.885,
          0.317,
          0.115,
          0.336,
          0.15,
          0.0589,
          0.000646,
          0.0174,
          0.13,
          0.543,
          0.0102,
          0.128,
          0.294,
          0.00344,
          0.0094,
          0.464,
          0.4,
          0.0775,
          0.0664,
          0.845,
          0.00928,
          0.0655,
          0.237,
          0.977,
          0.0118,
          0.0082,
          0.173,
          0.00118,
          0.00135,
          0.26,
          0.0183,
          0.0339,
          0.448,
          0.0286,
          0.0928,
          0.13,
          0.0991,
          0.131,
          0.591,
          0.0619,
          0.219,
          0.00801,
          0.835,
          0.581,
          0.0332,
          0.0533,
          0.00146,
          0.00883
         ]
        },
        {
         "mode": "markers",
         "name": "tempo",
         "type": "scatter",
         "x": [
          1946,
          1947,
          1948,
          1949,
          1950,
          1951,
          1952,
          1953,
          1954,
          1955,
          1956,
          1957,
          1958,
          1959,
          1960,
          1961,
          1962,
          1963,
          1964,
          1965,
          1966,
          1967,
          1968,
          1969,
          1970,
          1971,
          1972,
          1973,
          1974,
          1975,
          1976,
          1977,
          1978,
          1979,
          1980,
          1981,
          1982,
          1983,
          1984,
          1985,
          1986,
          1987,
          1988,
          1989,
          1990,
          1991,
          1992,
          1993,
          1994,
          1995,
          1996,
          1997,
          1998,
          1999,
          2000,
          2001,
          2002,
          2003,
          2004,
          2005,
          2006,
          2007,
          2008,
          2009,
          2010,
          2011,
          2012,
          2013,
          2014,
          2015,
          2016,
          2017,
          2018,
          2019,
          2020,
          2021
         ],
         "y": [
          76.747,
          122.25,
          105.621,
          126.574,
          141.158,
          96.324,
          124.489,
          82.729,
          84,
          118.274,
          93.543,
          74.139,
          67.369,
          177.162,
          92.631,
          142.736,
          71.278,
          132.852,
          130.726,
          140.978,
          84.369,
          97.142,
          147.207,
          122.395,
          79.764,
          126.867,
          120.653,
          87.601,
          138.108,
          129.733,
          124.896,
          136.547,
          101.933,
          147.245,
          142.673,
          116.685,
          123.878,
          117.401,
          126.47,
          153.119,
          120.117,
          103.022,
          95.846,
          172.912,
          97.8,
          131.253,
          149.703,
          67.531,
          96.987,
          79.974,
          103.191,
          125.648,
          99.693,
          132.975,
          136.859,
          124.557,
          172.094,
          90.059,
          105.018,
          139.986,
          140.046,
          175.906,
          128.008,
          130.048,
          120.028,
          104.945,
          129.062,
          94.992,
          160.019,
          114.988,
          100.418,
          95.977,
          77.169,
          136.041,
          171.005,
          102.977
         ]
        }
       ],
       "layout": {
        "hovermode": "y",
        "legend": {
         "bgcolor": "rgb(237, 219, 180)",
         "borderwidth": 5,
         "x": 1,
         "y": 0
        },
        "showlegend": true,
        "sliders": [
         {
          "steps": [
           {
            "args": [
             {
              "visible": [
               true,
               false,
               false,
               false,
               false
              ]
             }
            ],
            "label": "Danceability",
            "method": "update"
           },
           {
            "args": [
             {
              "visible": [
               false,
               true,
               false,
               false,
               false
              ]
             }
            ],
            "label": "Energy",
            "method": "update"
           },
           {
            "args": [
             {
              "visible": [
               false,
               false,
               true,
               false,
               false
              ]
             }
            ],
            "label": "Loudness",
            "method": "update"
           },
           {
            "args": [
             {
              "visible": [
               false,
               false,
               false,
               true,
               false
              ]
             }
            ],
            "label": "Acousticness",
            "method": "update"
           },
           {
            "args": [
             {
              "visible": [
               false,
               false,
               false,
               false,
               true
              ]
             }
            ],
            "label": "Tempo",
            "method": "update"
           }
          ]
         }
        ],
        "template": {
         "data": {
          "bar": [
           {
            "error_x": {
             "color": "#2a3f5f"
            },
            "error_y": {
             "color": "#2a3f5f"
            },
            "marker": {
             "line": {
              "color": "#E5ECF6",
              "width": 0.5
             },
             "pattern": {
              "fillmode": "overlay",
              "size": 10,
              "solidity": 0.2
             }
            },
            "type": "bar"
           }
          ],
          "barpolar": [
           {
            "marker": {
             "line": {
              "color": "#E5ECF6",
              "width": 0.5
             },
             "pattern": {
              "fillmode": "overlay",
              "size": 10,
              "solidity": 0.2
             }
            },
            "type": "barpolar"
           }
          ],
          "carpet": [
           {
            "aaxis": {
             "endlinecolor": "#2a3f5f",
             "gridcolor": "white",
             "linecolor": "white",
             "minorgridcolor": "white",
             "startlinecolor": "#2a3f5f"
            },
            "baxis": {
             "endlinecolor": "#2a3f5f",
             "gridcolor": "white",
             "linecolor": "white",
             "minorgridcolor": "white",
             "startlinecolor": "#2a3f5f"
            },
            "type": "carpet"
           }
          ],
          "choropleth": [
           {
            "colorbar": {
             "outlinewidth": 0,
             "ticks": ""
            },
            "type": "choropleth"
           }
          ],
          "contour": [
           {
            "colorbar": {
             "outlinewidth": 0,
             "ticks": ""
            },
            "colorscale": [
             [
              0,
              "#0d0887"
             ],
             [
              0.1111111111111111,
              "#46039f"
             ],
             [
              0.2222222222222222,
              "#7201a8"
             ],
             [
              0.3333333333333333,
              "#9c179e"
             ],
             [
              0.4444444444444444,
              "#bd3786"
             ],
             [
              0.5555555555555556,
              "#d8576b"
             ],
             [
              0.6666666666666666,
              "#ed7953"
             ],
             [
              0.7777777777777778,
              "#fb9f3a"
             ],
             [
              0.8888888888888888,
              "#fdca26"
             ],
             [
              1,
              "#f0f921"
             ]
            ],
            "type": "contour"
           }
          ],
          "contourcarpet": [
           {
            "colorbar": {
             "outlinewidth": 0,
             "ticks": ""
            },
            "type": "contourcarpet"
           }
          ],
          "heatmap": [
           {
            "colorbar": {
             "outlinewidth": 0,
             "ticks": ""
            },
            "colorscale": [
             [
              0,
              "#0d0887"
             ],
             [
              0.1111111111111111,
              "#46039f"
             ],
             [
              0.2222222222222222,
              "#7201a8"
             ],
             [
              0.3333333333333333,
              "#9c179e"
             ],
             [
              0.4444444444444444,
              "#bd3786"
             ],
             [
              0.5555555555555556,
              "#d8576b"
             ],
             [
              0.6666666666666666,
              "#ed7953"
             ],
             [
              0.7777777777777778,
              "#fb9f3a"
             ],
             [
              0.8888888888888888,
              "#fdca26"
             ],
             [
              1,
              "#f0f921"
             ]
            ],
            "type": "heatmap"
           }
          ],
          "heatmapgl": [
           {
            "colorbar": {
             "outlinewidth": 0,
             "ticks": ""
            },
            "colorscale": [
             [
              0,
              "#0d0887"
             ],
             [
              0.1111111111111111,
              "#46039f"
             ],
             [
              0.2222222222222222,
              "#7201a8"
             ],
             [
              0.3333333333333333,
              "#9c179e"
             ],
             [
              0.4444444444444444,
              "#bd3786"
             ],
             [
              0.5555555555555556,
              "#d8576b"
             ],
             [
              0.6666666666666666,
              "#ed7953"
             ],
             [
              0.7777777777777778,
              "#fb9f3a"
             ],
             [
              0.8888888888888888,
              "#fdca26"
             ],
             [
              1,
              "#f0f921"
             ]
            ],
            "type": "heatmapgl"
           }
          ],
          "histogram": [
           {
            "marker": {
             "pattern": {
              "fillmode": "overlay",
              "size": 10,
              "solidity": 0.2
             }
            },
            "type": "histogram"
           }
          ],
          "histogram2d": [
           {
            "colorbar": {
             "outlinewidth": 0,
             "ticks": ""
            },
            "colorscale": [
             [
              0,
              "#0d0887"
             ],
             [
              0.1111111111111111,
              "#46039f"
             ],
             [
              0.2222222222222222,
              "#7201a8"
             ],
             [
              0.3333333333333333,
              "#9c179e"
             ],
             [
              0.4444444444444444,
              "#bd3786"
             ],
             [
              0.5555555555555556,
              "#d8576b"
             ],
             [
              0.6666666666666666,
              "#ed7953"
             ],
             [
              0.7777777777777778,
              "#fb9f3a"
             ],
             [
              0.8888888888888888,
              "#fdca26"
             ],
             [
              1,
              "#f0f921"
             ]
            ],
            "type": "histogram2d"
           }
          ],
          "histogram2dcontour": [
           {
            "colorbar": {
             "outlinewidth": 0,
             "ticks": ""
            },
            "colorscale": [
             [
              0,
              "#0d0887"
             ],
             [
              0.1111111111111111,
              "#46039f"
             ],
             [
              0.2222222222222222,
              "#7201a8"
             ],
             [
              0.3333333333333333,
              "#9c179e"
             ],
             [
              0.4444444444444444,
              "#bd3786"
             ],
             [
              0.5555555555555556,
              "#d8576b"
             ],
             [
              0.6666666666666666,
              "#ed7953"
             ],
             [
              0.7777777777777778,
              "#fb9f3a"
             ],
             [
              0.8888888888888888,
              "#fdca26"
             ],
             [
              1,
              "#f0f921"
             ]
            ],
            "type": "histogram2dcontour"
           }
          ],
          "mesh3d": [
           {
            "colorbar": {
             "outlinewidth": 0,
             "ticks": ""
            },
            "type": "mesh3d"
           }
          ],
          "parcoords": [
           {
            "line": {
             "colorbar": {
              "outlinewidth": 0,
              "ticks": ""
             }
            },
            "type": "parcoords"
           }
          ],
          "pie": [
           {
            "automargin": true,
            "type": "pie"
           }
          ],
          "scatter": [
           {
            "marker": {
             "colorbar": {
              "outlinewidth": 0,
              "ticks": ""
             }
            },
            "type": "scatter"
           }
          ],
          "scatter3d": [
           {
            "line": {
             "colorbar": {
              "outlinewidth": 0,
              "ticks": ""
             }
            },
            "marker": {
             "colorbar": {
              "outlinewidth": 0,
              "ticks": ""
             }
            },
            "type": "scatter3d"
           }
          ],
          "scattercarpet": [
           {
            "marker": {
             "colorbar": {
              "outlinewidth": 0,
              "ticks": ""
             }
            },
            "type": "scattercarpet"
           }
          ],
          "scattergeo": [
           {
            "marker": {
             "colorbar": {
              "outlinewidth": 0,
              "ticks": ""
             }
            },
            "type": "scattergeo"
           }
          ],
          "scattergl": [
           {
            "marker": {
             "colorbar": {
              "outlinewidth": 0,
              "ticks": ""
             }
            },
            "type": "scattergl"
           }
          ],
          "scattermapbox": [
           {
            "marker": {
             "colorbar": {
              "outlinewidth": 0,
              "ticks": ""
             }
            },
            "type": "scattermapbox"
           }
          ],
          "scatterpolar": [
           {
            "marker": {
             "colorbar": {
              "outlinewidth": 0,
              "ticks": ""
             }
            },
            "type": "scatterpolar"
           }
          ],
          "scatterpolargl": [
           {
            "marker": {
             "colorbar": {
              "outlinewidth": 0,
              "ticks": ""
             }
            },
            "type": "scatterpolargl"
           }
          ],
          "scatterternary": [
           {
            "marker": {
             "colorbar": {
              "outlinewidth": 0,
              "ticks": ""
             }
            },
            "type": "scatterternary"
           }
          ],
          "surface": [
           {
            "colorbar": {
             "outlinewidth": 0,
             "ticks": ""
            },
            "colorscale": [
             [
              0,
              "#0d0887"
             ],
             [
              0.1111111111111111,
              "#46039f"
             ],
             [
              0.2222222222222222,
              "#7201a8"
             ],
             [
              0.3333333333333333,
              "#9c179e"
             ],
             [
              0.4444444444444444,
              "#bd3786"
             ],
             [
              0.5555555555555556,
              "#d8576b"
             ],
             [
              0.6666666666666666,
              "#ed7953"
             ],
             [
              0.7777777777777778,
              "#fb9f3a"
             ],
             [
              0.8888888888888888,
              "#fdca26"
             ],
             [
              1,
              "#f0f921"
             ]
            ],
            "type": "surface"
           }
          ],
          "table": [
           {
            "cells": {
             "fill": {
              "color": "#EBF0F8"
             },
             "line": {
              "color": "white"
             }
            },
            "header": {
             "fill": {
              "color": "#C8D4E3"
             },
             "line": {
              "color": "white"
             }
            },
            "type": "table"
           }
          ]
         },
         "layout": {
          "annotationdefaults": {
           "arrowcolor": "#2a3f5f",
           "arrowhead": 0,
           "arrowwidth": 1
          },
          "autotypenumbers": "strict",
          "coloraxis": {
           "colorbar": {
            "outlinewidth": 0,
            "ticks": ""
           }
          },
          "colorscale": {
           "diverging": [
            [
             0,
             "#8e0152"
            ],
            [
             0.1,
             "#c51b7d"
            ],
            [
             0.2,
             "#de77ae"
            ],
            [
             0.3,
             "#f1b6da"
            ],
            [
             0.4,
             "#fde0ef"
            ],
            [
             0.5,
             "#f7f7f7"
            ],
            [
             0.6,
             "#e6f5d0"
            ],
            [
             0.7,
             "#b8e186"
            ],
            [
             0.8,
             "#7fbc41"
            ],
            [
             0.9,
             "#4d9221"
            ],
            [
             1,
             "#276419"
            ]
           ],
           "sequential": [
            [
             0,
             "#0d0887"
            ],
            [
             0.1111111111111111,
             "#46039f"
            ],
            [
             0.2222222222222222,
             "#7201a8"
            ],
            [
             0.3333333333333333,
             "#9c179e"
            ],
            [
             0.4444444444444444,
             "#bd3786"
            ],
            [
             0.5555555555555556,
             "#d8576b"
            ],
            [
             0.6666666666666666,
             "#ed7953"
            ],
            [
             0.7777777777777778,
             "#fb9f3a"
            ],
            [
             0.8888888888888888,
             "#fdca26"
            ],
            [
             1,
             "#f0f921"
            ]
           ],
           "sequentialminus": [
            [
             0,
             "#0d0887"
            ],
            [
             0.1111111111111111,
             "#46039f"
            ],
            [
             0.2222222222222222,
             "#7201a8"
            ],
            [
             0.3333333333333333,
             "#9c179e"
            ],
            [
             0.4444444444444444,
             "#bd3786"
            ],
            [
             0.5555555555555556,
             "#d8576b"
            ],
            [
             0.6666666666666666,
             "#ed7953"
            ],
            [
             0.7777777777777778,
             "#fb9f3a"
            ],
            [
             0.8888888888888888,
             "#fdca26"
            ],
            [
             1,
             "#f0f921"
            ]
           ]
          },
          "colorway": [
           "#636efa",
           "#EF553B",
           "#00cc96",
           "#ab63fa",
           "#FFA15A",
           "#19d3f3",
           "#FF6692",
           "#B6E880",
           "#FF97FF",
           "#FECB52"
          ],
          "font": {
           "color": "#2a3f5f"
          },
          "geo": {
           "bgcolor": "white",
           "lakecolor": "white",
           "landcolor": "#E5ECF6",
           "showlakes": true,
           "showland": true,
           "subunitcolor": "white"
          },
          "hoverlabel": {
           "align": "left"
          },
          "hovermode": "closest",
          "mapbox": {
           "style": "light"
          },
          "paper_bgcolor": "white",
          "plot_bgcolor": "#E5ECF6",
          "polar": {
           "angularaxis": {
            "gridcolor": "white",
            "linecolor": "white",
            "ticks": ""
           },
           "bgcolor": "#E5ECF6",
           "radialaxis": {
            "gridcolor": "white",
            "linecolor": "white",
            "ticks": ""
           }
          },
          "scene": {
           "xaxis": {
            "backgroundcolor": "#E5ECF6",
            "gridcolor": "white",
            "gridwidth": 2,
            "linecolor": "white",
            "showbackground": true,
            "ticks": "",
            "zerolinecolor": "white"
           },
           "yaxis": {
            "backgroundcolor": "#E5ECF6",
            "gridcolor": "white",
            "gridwidth": 2,
            "linecolor": "white",
            "showbackground": true,
            "ticks": "",
            "zerolinecolor": "white"
           },
           "zaxis": {
            "backgroundcolor": "#E5ECF6",
            "gridcolor": "white",
            "gridwidth": 2,
            "linecolor": "white",
            "showbackground": true,
            "ticks": "",
            "zerolinecolor": "white"
           }
          },
          "shapedefaults": {
           "line": {
            "color": "#2a3f5f"
           }
          },
          "ternary": {
           "aaxis": {
            "gridcolor": "white",
            "linecolor": "white",
            "ticks": ""
           },
           "baxis": {
            "gridcolor": "white",
            "linecolor": "white",
            "ticks": ""
           },
           "bgcolor": "#E5ECF6",
           "caxis": {
            "gridcolor": "white",
            "linecolor": "white",
            "ticks": ""
           }
          },
          "title": {
           "x": 0.05
          },
          "xaxis": {
           "automargin": true,
           "gridcolor": "white",
           "linecolor": "white",
           "ticks": "",
           "title": {
            "standoff": 15
           },
           "zerolinecolor": "white",
           "zerolinewidth": 2
          },
          "yaxis": {
           "automargin": true,
           "gridcolor": "white",
           "linecolor": "white",
           "ticks": "",
           "title": {
            "standoff": 15
           },
           "zerolinecolor": "white",
           "zerolinewidth": 2
          }
         }
        },
        "title": {
         "text": "Change in audio features throughout the years (1946-2021)"
        }
       }
      },
      "text/html": [
       "<div>                            <div id=\"ee5e4c0d-8db8-4e5b-98e2-d576b90b5120\" class=\"plotly-graph-div\" style=\"height:525px; width:100%;\"></div>            <script type=\"text/javascript\">                require([\"plotly\"], function(Plotly) {                    window.PLOTLYENV=window.PLOTLYENV || {};                                    if (document.getElementById(\"ee5e4c0d-8db8-4e5b-98e2-d576b90b5120\")) {                    Plotly.newPlot(                        \"ee5e4c0d-8db8-4e5b-98e2-d576b90b5120\",                        [{\"mode\":\"markers\",\"name\":\"danceability\",\"type\":\"scatter\",\"x\":[1946,1947,1948,1949,1950,1951,1952,1953,1954,1955,1956,1957,1958,1959,1960,1961,1962,1963,1964,1965,1966,1967,1968,1969,1970,1971,1972,1973,1974,1975,1976,1977,1978,1979,1980,1981,1982,1983,1984,1985,1986,1987,1988,1989,1990,1991,1992,1993,1994,1995,1996,1997,1998,1999,2000,2001,2002,2003,2004,2005,2006,2007,2008,2009,2010,2011,2012,2013,2014,2015,2016,2017,2018,2019,2020,2021],\"y\":[0.342,0.748,0.53,0.428,0.335,0.201,0.328,0.205,0.403,0.51,0.696,0.624,0.52,0.703,0.466,0.569,0.313,0.792,0.49,0.696,0.715,0.546,0.386,0.736,0.149,0.649,0.311,0.559,0.264,0.681,0.744,0.551,0.74,0.586,0.554,0.659,0.829,0.82,0.729,0.574,0.673,0.724,0.887,0.394,0.679,0.526,0.64,0.332,0.808,0.647,0.737,0.45,0.847,0.652,0.529,0.541,0.446,0.902,0.894,0.837,0.599,0.576,0.918,0.867,0.755,0.729,0.864,0.781,0.647,0.856,0.609,0.825,0.754,0.878,0.514,0.702]},{\"mode\":\"markers\",\"name\":\"energy\",\"type\":\"scatter\",\"x\":[1946,1947,1948,1949,1950,1951,1952,1953,1954,1955,1956,1957,1958,1959,1960,1961,1962,1963,1964,1965,1966,1967,1968,1969,1970,1971,1972,1973,1974,1975,1976,1977,1978,1979,1980,1981,1982,1983,1984,1985,1986,1987,1988,1989,1990,1991,1992,1993,1994,1995,1996,1997,1998,1999,2000,2001,2002,2003,2004,2005,2006,2007,2008,2009,2010,2011,2012,2013,2014,2015,2016,2017,2018,2019,2020,2021],\"y\":[0.236,0.166,0.57,0.587,0.255,0.213,0.144,0.355,0.0938,0.344,0.21,0.468,0.0721,0.753,0.389,0.722,0.329,0.804,0.715,0.692,0.327,0.399,0.607,0.871,0.206,0.679,0.0264,0.615,0.32,0.484,0.487,0.514,0.598,0.7,0.833,0.541,0.737,0.452,0.989,0.629,0.286,0.891,0.48,0.557,0.657,0.365,0.427,0.214,0.786,0.514,0.93,0.311,0.402,0.917,0.496,0.864,0.764,0.72,0.791,0.462,0.785,0.697,0.609,0.857,0.837,0.756,0.495,0.526,0.822,0.609,0.378,0.652,0.449,0.619,0.73,0.825]},{\"mode\":\"markers\",\"name\":\"loudness\",\"type\":\"scatter\",\"x\":[1946,1947,1948,1949,1950,1951,1952,1953,1954,1955,1956,1957,1958,1959,1960,1961,1962,1963,1964,1965,1966,1967,1968,1969,1970,1971,1972,1973,1974,1975,1976,1977,1978,1979,1980,1981,1982,1983,1984,1985,1986,1987,1988,1989,1990,1991,1992,1993,1994,1995,1996,1997,1998,1999,2000,2001,2002,2003,2004,2005,2006,2007,2008,2009,2010,2011,2012,2013,2014,2015,2016,2017,2018,2019,2020,2021],\"y\":[-8.276,-14.963,-7.942,-5.039,-10.561,-14.531,-21.882,-9.078,-18.535,-13.14,-11.922,-12.162,-14.38,-11.783,-12.825,-8.914,-12.47,-7.484,-5.549,-9.586,-11.814,-9.378,-7.7,-2.786,-13.888,-12.515,-21.644,-12.27,-11.716,-13.67,-11.05,-12.617,-9.658,-9.558,-6.667,-7.919,-8.181,-9.796,-4.613,-8.815,-14.643,-7.818,-11.994,-7.152,-9.897,-12.605,-9.29,-12.518,-6.897,-10.05,-6.083,-8.175,-9.952,-6.72,-9.007,-4.915,-5.042,-2.776,-4.699,-7.89,-4.013,-4.192,-5.64,-5.892,-2.718,-5.119,-7.036,-6.985,-4.662,-7.223,-9.828,-3.183,-9.211,-5.56,-5.934,-3.787]},{\"mode\":\"markers\",\"name\":\"acousticness\",\"type\":\"scatter\",\"x\":[1946,1947,1948,1949,1950,1951,1952,1953,1954,1955,1956,1957,1958,1959,1960,1961,1962,1963,1964,1965,1966,1967,1968,1969,1970,1971,1972,1973,1974,1975,1976,1977,1978,1979,1980,1981,1982,1983,1984,1985,1986,1987,1988,1989,1990,1991,1992,1993,1994,1995,1996,1997,1998,1999,2000,2001,2002,2003,2004,2005,2006,2007,2008,2009,2010,2011,2012,2013,2014,2015,2016,2017,2018,2019,2020,2021],\"y\":[0.762,0.681,0.551,0.957,0.843,0.805,0.739,0.927,0.866,0.517,0.84,0.881,0.967,0.803,0.631,0.225,0.825,0.225,0.386,0.577,0.782,0.361,0.0112,0.466,0.822,0.464,0.731,0.283,0.885,0.317,0.115,0.336,0.15,0.0589,0.000646,0.0174,0.13,0.543,0.0102,0.128,0.294,0.00344,0.0094,0.464,0.4,0.0775,0.0664,0.845,0.00928,0.0655,0.237,0.977,0.0118,0.0082,0.173,0.00118,0.00135,0.26,0.0183,0.0339,0.448,0.0286,0.0928,0.13,0.0991,0.131,0.591,0.0619,0.219,0.00801,0.835,0.581,0.0332,0.0533,0.00146,0.00883]},{\"mode\":\"markers\",\"name\":\"tempo\",\"type\":\"scatter\",\"x\":[1946,1947,1948,1949,1950,1951,1952,1953,1954,1955,1956,1957,1958,1959,1960,1961,1962,1963,1964,1965,1966,1967,1968,1969,1970,1971,1972,1973,1974,1975,1976,1977,1978,1979,1980,1981,1982,1983,1984,1985,1986,1987,1988,1989,1990,1991,1992,1993,1994,1995,1996,1997,1998,1999,2000,2001,2002,2003,2004,2005,2006,2007,2008,2009,2010,2011,2012,2013,2014,2015,2016,2017,2018,2019,2020,2021],\"y\":[76.747,122.25,105.621,126.574,141.158,96.324,124.489,82.729,84.0,118.274,93.543,74.139,67.369,177.162,92.631,142.736,71.278,132.852,130.726,140.978,84.369,97.142,147.207,122.395,79.764,126.867,120.653,87.601,138.108,129.733,124.896,136.547,101.933,147.245,142.673,116.685,123.878,117.401,126.47,153.119,120.117,103.022,95.846,172.912,97.8,131.253,149.703,67.531,96.987,79.974,103.191,125.648,99.693,132.975,136.859,124.557,172.094,90.059,105.018,139.986,140.046,175.906,128.008,130.048,120.028,104.945,129.062,94.992,160.019,114.988,100.418,95.977,77.169,136.041,171.005,102.977]}],                        {\"hovermode\":\"y\",\"legend\":{\"bgcolor\":\"rgb(237, 219, 180)\",\"borderwidth\":5,\"x\":1,\"y\":0},\"showlegend\":true,\"sliders\":[{\"steps\":[{\"args\":[{\"visible\":[true,false,false,false,false]}],\"label\":\"Danceability\",\"method\":\"update\"},{\"args\":[{\"visible\":[false,true,false,false,false]}],\"label\":\"Energy\",\"method\":\"update\"},{\"args\":[{\"visible\":[false,false,true,false,false]}],\"label\":\"Loudness\",\"method\":\"update\"},{\"args\":[{\"visible\":[false,false,false,true,false]}],\"label\":\"Acousticness\",\"method\":\"update\"},{\"args\":[{\"visible\":[false,false,false,false,true]}],\"label\":\"Tempo\",\"method\":\"update\"}]}],\"template\":{\"data\":{\"bar\":[{\"error_x\":{\"color\":\"#2a3f5f\"},\"error_y\":{\"color\":\"#2a3f5f\"},\"marker\":{\"line\":{\"color\":\"#E5ECF6\",\"width\":0.5},\"pattern\":{\"fillmode\":\"overlay\",\"size\":10,\"solidity\":0.2}},\"type\":\"bar\"}],\"barpolar\":[{\"marker\":{\"line\":{\"color\":\"#E5ECF6\",\"width\":0.5},\"pattern\":{\"fillmode\":\"overlay\",\"size\":10,\"solidity\":0.2}},\"type\":\"barpolar\"}],\"carpet\":[{\"aaxis\":{\"endlinecolor\":\"#2a3f5f\",\"gridcolor\":\"white\",\"linecolor\":\"white\",\"minorgridcolor\":\"white\",\"startlinecolor\":\"#2a3f5f\"},\"baxis\":{\"endlinecolor\":\"#2a3f5f\",\"gridcolor\":\"white\",\"linecolor\":\"white\",\"minorgridcolor\":\"white\",\"startlinecolor\":\"#2a3f5f\"},\"type\":\"carpet\"}],\"choropleth\":[{\"colorbar\":{\"outlinewidth\":0,\"ticks\":\"\"},\"type\":\"choropleth\"}],\"contour\":[{\"colorbar\":{\"outlinewidth\":0,\"ticks\":\"\"},\"colorscale\":[[0.0,\"#0d0887\"],[0.1111111111111111,\"#46039f\"],[0.2222222222222222,\"#7201a8\"],[0.3333333333333333,\"#9c179e\"],[0.4444444444444444,\"#bd3786\"],[0.5555555555555556,\"#d8576b\"],[0.6666666666666666,\"#ed7953\"],[0.7777777777777778,\"#fb9f3a\"],[0.8888888888888888,\"#fdca26\"],[1.0,\"#f0f921\"]],\"type\":\"contour\"}],\"contourcarpet\":[{\"colorbar\":{\"outlinewidth\":0,\"ticks\":\"\"},\"type\":\"contourcarpet\"}],\"heatmap\":[{\"colorbar\":{\"outlinewidth\":0,\"ticks\":\"\"},\"colorscale\":[[0.0,\"#0d0887\"],[0.1111111111111111,\"#46039f\"],[0.2222222222222222,\"#7201a8\"],[0.3333333333333333,\"#9c179e\"],[0.4444444444444444,\"#bd3786\"],[0.5555555555555556,\"#d8576b\"],[0.6666666666666666,\"#ed7953\"],[0.7777777777777778,\"#fb9f3a\"],[0.8888888888888888,\"#fdca26\"],[1.0,\"#f0f921\"]],\"type\":\"heatmap\"}],\"heatmapgl\":[{\"colorbar\":{\"outlinewidth\":0,\"ticks\":\"\"},\"colorscale\":[[0.0,\"#0d0887\"],[0.1111111111111111,\"#46039f\"],[0.2222222222222222,\"#7201a8\"],[0.3333333333333333,\"#9c179e\"],[0.4444444444444444,\"#bd3786\"],[0.5555555555555556,\"#d8576b\"],[0.6666666666666666,\"#ed7953\"],[0.7777777777777778,\"#fb9f3a\"],[0.8888888888888888,\"#fdca26\"],[1.0,\"#f0f921\"]],\"type\":\"heatmapgl\"}],\"histogram\":[{\"marker\":{\"pattern\":{\"fillmode\":\"overlay\",\"size\":10,\"solidity\":0.2}},\"type\":\"histogram\"}],\"histogram2d\":[{\"colorbar\":{\"outlinewidth\":0,\"ticks\":\"\"},\"colorscale\":[[0.0,\"#0d0887\"],[0.1111111111111111,\"#46039f\"],[0.2222222222222222,\"#7201a8\"],[0.3333333333333333,\"#9c179e\"],[0.4444444444444444,\"#bd3786\"],[0.5555555555555556,\"#d8576b\"],[0.6666666666666666,\"#ed7953\"],[0.7777777777777778,\"#fb9f3a\"],[0.8888888888888888,\"#fdca26\"],[1.0,\"#f0f921\"]],\"type\":\"histogram2d\"}],\"histogram2dcontour\":[{\"colorbar\":{\"outlinewidth\":0,\"ticks\":\"\"},\"colorscale\":[[0.0,\"#0d0887\"],[0.1111111111111111,\"#46039f\"],[0.2222222222222222,\"#7201a8\"],[0.3333333333333333,\"#9c179e\"],[0.4444444444444444,\"#bd3786\"],[0.5555555555555556,\"#d8576b\"],[0.6666666666666666,\"#ed7953\"],[0.7777777777777778,\"#fb9f3a\"],[0.8888888888888888,\"#fdca26\"],[1.0,\"#f0f921\"]],\"type\":\"histogram2dcontour\"}],\"mesh3d\":[{\"colorbar\":{\"outlinewidth\":0,\"ticks\":\"\"},\"type\":\"mesh3d\"}],\"parcoords\":[{\"line\":{\"colorbar\":{\"outlinewidth\":0,\"ticks\":\"\"}},\"type\":\"parcoords\"}],\"pie\":[{\"automargin\":true,\"type\":\"pie\"}],\"scatter\":[{\"marker\":{\"colorbar\":{\"outlinewidth\":0,\"ticks\":\"\"}},\"type\":\"scatter\"}],\"scatter3d\":[{\"line\":{\"colorbar\":{\"outlinewidth\":0,\"ticks\":\"\"}},\"marker\":{\"colorbar\":{\"outlinewidth\":0,\"ticks\":\"\"}},\"type\":\"scatter3d\"}],\"scattercarpet\":[{\"marker\":{\"colorbar\":{\"outlinewidth\":0,\"ticks\":\"\"}},\"type\":\"scattercarpet\"}],\"scattergeo\":[{\"marker\":{\"colorbar\":{\"outlinewidth\":0,\"ticks\":\"\"}},\"type\":\"scattergeo\"}],\"scattergl\":[{\"marker\":{\"colorbar\":{\"outlinewidth\":0,\"ticks\":\"\"}},\"type\":\"scattergl\"}],\"scattermapbox\":[{\"marker\":{\"colorbar\":{\"outlinewidth\":0,\"ticks\":\"\"}},\"type\":\"scattermapbox\"}],\"scatterpolar\":[{\"marker\":{\"colorbar\":{\"outlinewidth\":0,\"ticks\":\"\"}},\"type\":\"scatterpolar\"}],\"scatterpolargl\":[{\"marker\":{\"colorbar\":{\"outlinewidth\":0,\"ticks\":\"\"}},\"type\":\"scatterpolargl\"}],\"scatterternary\":[{\"marker\":{\"colorbar\":{\"outlinewidth\":0,\"ticks\":\"\"}},\"type\":\"scatterternary\"}],\"surface\":[{\"colorbar\":{\"outlinewidth\":0,\"ticks\":\"\"},\"colorscale\":[[0.0,\"#0d0887\"],[0.1111111111111111,\"#46039f\"],[0.2222222222222222,\"#7201a8\"],[0.3333333333333333,\"#9c179e\"],[0.4444444444444444,\"#bd3786\"],[0.5555555555555556,\"#d8576b\"],[0.6666666666666666,\"#ed7953\"],[0.7777777777777778,\"#fb9f3a\"],[0.8888888888888888,\"#fdca26\"],[1.0,\"#f0f921\"]],\"type\":\"surface\"}],\"table\":[{\"cells\":{\"fill\":{\"color\":\"#EBF0F8\"},\"line\":{\"color\":\"white\"}},\"header\":{\"fill\":{\"color\":\"#C8D4E3\"},\"line\":{\"color\":\"white\"}},\"type\":\"table\"}]},\"layout\":{\"annotationdefaults\":{\"arrowcolor\":\"#2a3f5f\",\"arrowhead\":0,\"arrowwidth\":1},\"autotypenumbers\":\"strict\",\"coloraxis\":{\"colorbar\":{\"outlinewidth\":0,\"ticks\":\"\"}},\"colorscale\":{\"diverging\":[[0,\"#8e0152\"],[0.1,\"#c51b7d\"],[0.2,\"#de77ae\"],[0.3,\"#f1b6da\"],[0.4,\"#fde0ef\"],[0.5,\"#f7f7f7\"],[0.6,\"#e6f5d0\"],[0.7,\"#b8e186\"],[0.8,\"#7fbc41\"],[0.9,\"#4d9221\"],[1,\"#276419\"]],\"sequential\":[[0.0,\"#0d0887\"],[0.1111111111111111,\"#46039f\"],[0.2222222222222222,\"#7201a8\"],[0.3333333333333333,\"#9c179e\"],[0.4444444444444444,\"#bd3786\"],[0.5555555555555556,\"#d8576b\"],[0.6666666666666666,\"#ed7953\"],[0.7777777777777778,\"#fb9f3a\"],[0.8888888888888888,\"#fdca26\"],[1.0,\"#f0f921\"]],\"sequentialminus\":[[0.0,\"#0d0887\"],[0.1111111111111111,\"#46039f\"],[0.2222222222222222,\"#7201a8\"],[0.3333333333333333,\"#9c179e\"],[0.4444444444444444,\"#bd3786\"],[0.5555555555555556,\"#d8576b\"],[0.6666666666666666,\"#ed7953\"],[0.7777777777777778,\"#fb9f3a\"],[0.8888888888888888,\"#fdca26\"],[1.0,\"#f0f921\"]]},\"colorway\":[\"#636efa\",\"#EF553B\",\"#00cc96\",\"#ab63fa\",\"#FFA15A\",\"#19d3f3\",\"#FF6692\",\"#B6E880\",\"#FF97FF\",\"#FECB52\"],\"font\":{\"color\":\"#2a3f5f\"},\"geo\":{\"bgcolor\":\"white\",\"lakecolor\":\"white\",\"landcolor\":\"#E5ECF6\",\"showlakes\":true,\"showland\":true,\"subunitcolor\":\"white\"},\"hoverlabel\":{\"align\":\"left\"},\"hovermode\":\"closest\",\"mapbox\":{\"style\":\"light\"},\"paper_bgcolor\":\"white\",\"plot_bgcolor\":\"#E5ECF6\",\"polar\":{\"angularaxis\":{\"gridcolor\":\"white\",\"linecolor\":\"white\",\"ticks\":\"\"},\"bgcolor\":\"#E5ECF6\",\"radialaxis\":{\"gridcolor\":\"white\",\"linecolor\":\"white\",\"ticks\":\"\"}},\"scene\":{\"xaxis\":{\"backgroundcolor\":\"#E5ECF6\",\"gridcolor\":\"white\",\"gridwidth\":2,\"linecolor\":\"white\",\"showbackground\":true,\"ticks\":\"\",\"zerolinecolor\":\"white\"},\"yaxis\":{\"backgroundcolor\":\"#E5ECF6\",\"gridcolor\":\"white\",\"gridwidth\":2,\"linecolor\":\"white\",\"showbackground\":true,\"ticks\":\"\",\"zerolinecolor\":\"white\"},\"zaxis\":{\"backgroundcolor\":\"#E5ECF6\",\"gridcolor\":\"white\",\"gridwidth\":2,\"linecolor\":\"white\",\"showbackground\":true,\"ticks\":\"\",\"zerolinecolor\":\"white\"}},\"shapedefaults\":{\"line\":{\"color\":\"#2a3f5f\"}},\"ternary\":{\"aaxis\":{\"gridcolor\":\"white\",\"linecolor\":\"white\",\"ticks\":\"\"},\"baxis\":{\"gridcolor\":\"white\",\"linecolor\":\"white\",\"ticks\":\"\"},\"bgcolor\":\"#E5ECF6\",\"caxis\":{\"gridcolor\":\"white\",\"linecolor\":\"white\",\"ticks\":\"\"}},\"title\":{\"x\":0.05},\"xaxis\":{\"automargin\":true,\"gridcolor\":\"white\",\"linecolor\":\"white\",\"ticks\":\"\",\"title\":{\"standoff\":15},\"zerolinecolor\":\"white\",\"zerolinewidth\":2},\"yaxis\":{\"automargin\":true,\"gridcolor\":\"white\",\"linecolor\":\"white\",\"ticks\":\"\",\"title\":{\"standoff\":15},\"zerolinecolor\":\"white\",\"zerolinewidth\":2}}},\"title\":{\"text\":\"Change in audio features throughout the years (1946-2021)\"}},                        {\"responsive\": true}                    ).then(function(){\n",
       "                            \n",
       "var gd = document.getElementById('ee5e4c0d-8db8-4e5b-98e2-d576b90b5120');\n",
       "var x = new MutationObserver(function (mutations, observer) {{\n",
       "        var display = window.getComputedStyle(gd).display;\n",
       "        if (!display || display === 'none') {{\n",
       "            console.log([gd, 'removed!']);\n",
       "            Plotly.purge(gd);\n",
       "            observer.disconnect();\n",
       "        }}\n",
       "}});\n",
       "\n",
       "// Listen for the removal of the full notebook cells\n",
       "var notebookContainer = gd.closest('#notebook-container');\n",
       "if (notebookContainer) {{\n",
       "    x.observe(notebookContainer, {childList: true});\n",
       "}}\n",
       "\n",
       "// Listen for the clearing of the current output cell\n",
       "var outputEl = gd.closest('.output');\n",
       "if (outputEl) {{\n",
       "    x.observe(outputEl, {childList: true});\n",
       "}}\n",
       "\n",
       "                        })                };                });            </script>        </div>"
      ]
     },
     "metadata": {},
     "output_type": "display_data"
    }
   ],
   "source": [
    "\n",
    "fig = go.Figure()\n",
    "\n",
    "features = ['danceability','energy','loudness','acousticness','tempo']\n",
    "\n",
    "for features in features : \n",
    "    tempDF = allSongsDF[features]\n",
    "    fig.add_trace(go.Scatter(x=allSongsDF['year'], y=tempDF, name=features,mode='markers'))\n",
    "    \n",
    "    #Add the legend\n",
    "    my_legend = {'x': 1, 'y': 0, \n",
    "            'bgcolor': 'rgb(237, 219, 180)', 'borderwidth': 5}\n",
    "    # Update the figure\n",
    "    fig.update_layout({'showlegend': True, 'legend': my_legend},\n",
    "                     title=\"Change in audio features throughout the years (1946-2021)\")\n",
    "    fig.update_layout(hovermode=\"y\")\n",
    "\n",
    "    \n",
    "sliders = [\n",
    "    {'steps':[\n",
    "    {'method': 'update', 'label': 'Danceability', 'args': [{'visible': [True, False, False, False, False]}]},\n",
    "    {'method': 'update', 'label': 'Energy', 'args': [{'visible': [False, True, False, False, False]}]},\n",
    "    {'method': 'update', 'label': 'Loudness', 'args': [{'visible': [False, False, True, False, False]}]},\n",
    "    {'method': 'update', 'label': 'Acousticness', 'args': [{'visible': [False, False, False, True, False]}]},\n",
    "    {'method': 'update', 'label': 'Tempo', 'args': [{'visible': [False, False, False, False, True]}]}]}]\n",
    "\n",
    "fig.update_layout({'sliders': sliders})\n",
    "\n",
    "fig.show()"
   ]
  },
  {
   "cell_type": "code",
   "execution_count": null,
   "id": "98d7ea42",
   "metadata": {
    "scrolled": false
   },
   "outputs": [],
   "source": []
  },
  {
   "cell_type": "code",
   "execution_count": null,
   "id": "3d1454d9",
   "metadata": {},
   "outputs": [],
   "source": []
  },
  {
   "cell_type": "code",
   "execution_count": null,
   "id": "2b534898",
   "metadata": {},
   "outputs": [],
   "source": []
  },
  {
   "cell_type": "code",
   "execution_count": null,
   "id": "6b40da1e",
   "metadata": {},
   "outputs": [],
   "source": []
  }
 ],
 "metadata": {
  "kernelspec": {
   "display_name": "Python 3",
   "language": "python",
   "name": "python3"
  },
  "language_info": {
   "codemirror_mode": {
    "name": "ipython",
    "version": 3
   },
   "file_extension": ".py",
   "mimetype": "text/x-python",
   "name": "python",
   "nbconvert_exporter": "python",
   "pygments_lexer": "ipython3",
   "version": "3.8.8"
  }
 },
 "nbformat": 4,
 "nbformat_minor": 5
}
